{
  "nbformat": 4,
  "nbformat_minor": 0,
  "metadata": {
    "colab": {
      "name": "Titanic",
      "provenance": [],
      "collapsed_sections": []
    },
    "kernelspec": {
      "name": "python3",
      "display_name": "Python 3"
    }
  },
  "cells": [
    {
      "cell_type": "code",
      "metadata": {
        "id": "xvH4KBNTfkhD",
        "colab_type": "code",
        "colab": {}
      },
      "source": [
        "import tensorflow as tf\n",
        "import numpy as np\n",
        "import matplotlib.pyplot as plt \n",
        "import pandas as pd \n",
        "import io\n",
        "%matplotlib inline\n",
        "import seaborn as sns"
      ],
      "execution_count": 0,
      "outputs": []
    },
    {
      "cell_type": "markdown",
      "metadata": {
        "id": "VR4K0svBf6D0",
        "colab_type": "text"
      },
      "source": [
        "We are importing the main libraries that we need. Further down I will import several more"
      ]
    },
    {
      "cell_type": "code",
      "metadata": {
        "id": "uTqRCZjPf9LZ",
        "colab_type": "code",
        "outputId": "0c112cec-4e9f-4ddd-d363-74960b13339a",
        "colab": {
          "resources": {
            "http://localhost:8080/nbextensions/google.colab/files.js": {
              "data": "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",
              "ok": true,
              "headers": [
                [
                  "content-type",
                  "application/javascript"
                ]
              ],
              "status": 200,
              "status_text": ""
            }
          },
          "base_uri": "https://localhost:8080/",
          "height": 74
        }
      },
      "source": [
        "from google.colab import files\n",
        "uploaded = files.upload()"
      ],
      "execution_count": 0,
      "outputs": [
        {
          "output_type": "display_data",
          "data": {
            "text/html": [
              "\n",
              "     <input type=\"file\" id=\"files-c028347f-55d7-4b0b-8abe-51f54e976cc0\" name=\"files[]\" multiple disabled />\n",
              "     <output id=\"result-c028347f-55d7-4b0b-8abe-51f54e976cc0\">\n",
              "      Upload widget is only available when the cell has been executed in the\n",
              "      current browser session. Please rerun this cell to enable.\n",
              "      </output>\n",
              "      <script src=\"/nbextensions/google.colab/files.js\"></script> "
            ],
            "text/plain": [
              "<IPython.core.display.HTML object>"
            ]
          },
          "metadata": {
            "tags": []
          }
        },
        {
          "output_type": "stream",
          "text": [
            "Saving train.csv to train (2).csv\n"
          ],
          "name": "stdout"
        }
      ]
    },
    {
      "cell_type": "markdown",
      "metadata": {
        "id": "XazZShag1wij",
        "colab_type": "text"
      },
      "source": [
        "This little project is made in Google Colab. This line is needed to work with a csv file"
      ]
    },
    {
      "cell_type": "code",
      "metadata": {
        "id": "dul7TmXKgQMp",
        "colab_type": "code",
        "colab": {}
      },
      "source": [
        "dataset= pd.read_csv(io.BytesIO(uploaded['train.csv'])) #Reading the uploaded csv"
      ],
      "execution_count": 0,
      "outputs": []
    },
    {
      "cell_type": "code",
      "metadata": {
        "id": "14Pi-NgggqEz",
        "colab_type": "code",
        "outputId": "6fde41a7-f77e-40b7-b4a6-0e4e575c0df0",
        "colab": {
          "base_uri": "https://localhost:8080/",
          "height": 402
        }
      },
      "source": [
        "dataset"
      ],
      "execution_count": 0,
      "outputs": [
        {
          "output_type": "execute_result",
          "data": {
            "text/html": [
              "<div>\n",
              "<style scoped>\n",
              "    .dataframe tbody tr th:only-of-type {\n",
              "        vertical-align: middle;\n",
              "    }\n",
              "\n",
              "    .dataframe tbody tr th {\n",
              "        vertical-align: top;\n",
              "    }\n",
              "\n",
              "    .dataframe thead th {\n",
              "        text-align: right;\n",
              "    }\n",
              "</style>\n",
              "<table border=\"1\" class=\"dataframe\">\n",
              "  <thead>\n",
              "    <tr style=\"text-align: right;\">\n",
              "      <th></th>\n",
              "      <th>PassengerId</th>\n",
              "      <th>Survived</th>\n",
              "      <th>Pclass</th>\n",
              "      <th>Name</th>\n",
              "      <th>Sex</th>\n",
              "      <th>Age</th>\n",
              "      <th>SibSp</th>\n",
              "      <th>Parch</th>\n",
              "      <th>Ticket</th>\n",
              "      <th>Fare</th>\n",
              "      <th>Cabin</th>\n",
              "      <th>Embarked</th>\n",
              "    </tr>\n",
              "  </thead>\n",
              "  <tbody>\n",
              "    <tr>\n",
              "      <th>0</th>\n",
              "      <td>1</td>\n",
              "      <td>0</td>\n",
              "      <td>3</td>\n",
              "      <td>Braund, Mr. Owen Harris</td>\n",
              "      <td>male</td>\n",
              "      <td>22.0</td>\n",
              "      <td>1</td>\n",
              "      <td>0</td>\n",
              "      <td>A/5 21171</td>\n",
              "      <td>7.2500</td>\n",
              "      <td>NaN</td>\n",
              "      <td>S</td>\n",
              "    </tr>\n",
              "    <tr>\n",
              "      <th>1</th>\n",
              "      <td>2</td>\n",
              "      <td>1</td>\n",
              "      <td>1</td>\n",
              "      <td>Cumings, Mrs. John Bradley (Florence Briggs Th...</td>\n",
              "      <td>female</td>\n",
              "      <td>38.0</td>\n",
              "      <td>1</td>\n",
              "      <td>0</td>\n",
              "      <td>PC 17599</td>\n",
              "      <td>71.2833</td>\n",
              "      <td>C85</td>\n",
              "      <td>C</td>\n",
              "    </tr>\n",
              "    <tr>\n",
              "      <th>2</th>\n",
              "      <td>3</td>\n",
              "      <td>1</td>\n",
              "      <td>3</td>\n",
              "      <td>Heikkinen, Miss. Laina</td>\n",
              "      <td>female</td>\n",
              "      <td>26.0</td>\n",
              "      <td>0</td>\n",
              "      <td>0</td>\n",
              "      <td>STON/O2. 3101282</td>\n",
              "      <td>7.9250</td>\n",
              "      <td>NaN</td>\n",
              "      <td>S</td>\n",
              "    </tr>\n",
              "    <tr>\n",
              "      <th>3</th>\n",
              "      <td>4</td>\n",
              "      <td>1</td>\n",
              "      <td>1</td>\n",
              "      <td>Futrelle, Mrs. Jacques Heath (Lily May Peel)</td>\n",
              "      <td>female</td>\n",
              "      <td>35.0</td>\n",
              "      <td>1</td>\n",
              "      <td>0</td>\n",
              "      <td>113803</td>\n",
              "      <td>53.1000</td>\n",
              "      <td>C123</td>\n",
              "      <td>S</td>\n",
              "    </tr>\n",
              "    <tr>\n",
              "      <th>4</th>\n",
              "      <td>5</td>\n",
              "      <td>0</td>\n",
              "      <td>3</td>\n",
              "      <td>Allen, Mr. William Henry</td>\n",
              "      <td>male</td>\n",
              "      <td>35.0</td>\n",
              "      <td>0</td>\n",
              "      <td>0</td>\n",
              "      <td>373450</td>\n",
              "      <td>8.0500</td>\n",
              "      <td>NaN</td>\n",
              "      <td>S</td>\n",
              "    </tr>\n",
              "    <tr>\n",
              "      <th>...</th>\n",
              "      <td>...</td>\n",
              "      <td>...</td>\n",
              "      <td>...</td>\n",
              "      <td>...</td>\n",
              "      <td>...</td>\n",
              "      <td>...</td>\n",
              "      <td>...</td>\n",
              "      <td>...</td>\n",
              "      <td>...</td>\n",
              "      <td>...</td>\n",
              "      <td>...</td>\n",
              "      <td>...</td>\n",
              "    </tr>\n",
              "    <tr>\n",
              "      <th>886</th>\n",
              "      <td>887</td>\n",
              "      <td>0</td>\n",
              "      <td>2</td>\n",
              "      <td>Montvila, Rev. Juozas</td>\n",
              "      <td>male</td>\n",
              "      <td>27.0</td>\n",
              "      <td>0</td>\n",
              "      <td>0</td>\n",
              "      <td>211536</td>\n",
              "      <td>13.0000</td>\n",
              "      <td>NaN</td>\n",
              "      <td>S</td>\n",
              "    </tr>\n",
              "    <tr>\n",
              "      <th>887</th>\n",
              "      <td>888</td>\n",
              "      <td>1</td>\n",
              "      <td>1</td>\n",
              "      <td>Graham, Miss. Margaret Edith</td>\n",
              "      <td>female</td>\n",
              "      <td>19.0</td>\n",
              "      <td>0</td>\n",
              "      <td>0</td>\n",
              "      <td>112053</td>\n",
              "      <td>30.0000</td>\n",
              "      <td>B42</td>\n",
              "      <td>S</td>\n",
              "    </tr>\n",
              "    <tr>\n",
              "      <th>888</th>\n",
              "      <td>889</td>\n",
              "      <td>0</td>\n",
              "      <td>3</td>\n",
              "      <td>Johnston, Miss. Catherine Helen \"Carrie\"</td>\n",
              "      <td>female</td>\n",
              "      <td>NaN</td>\n",
              "      <td>1</td>\n",
              "      <td>2</td>\n",
              "      <td>W./C. 6607</td>\n",
              "      <td>23.4500</td>\n",
              "      <td>NaN</td>\n",
              "      <td>S</td>\n",
              "    </tr>\n",
              "    <tr>\n",
              "      <th>889</th>\n",
              "      <td>890</td>\n",
              "      <td>1</td>\n",
              "      <td>1</td>\n",
              "      <td>Behr, Mr. Karl Howell</td>\n",
              "      <td>male</td>\n",
              "      <td>26.0</td>\n",
              "      <td>0</td>\n",
              "      <td>0</td>\n",
              "      <td>111369</td>\n",
              "      <td>30.0000</td>\n",
              "      <td>C148</td>\n",
              "      <td>C</td>\n",
              "    </tr>\n",
              "    <tr>\n",
              "      <th>890</th>\n",
              "      <td>891</td>\n",
              "      <td>0</td>\n",
              "      <td>3</td>\n",
              "      <td>Dooley, Mr. Patrick</td>\n",
              "      <td>male</td>\n",
              "      <td>32.0</td>\n",
              "      <td>0</td>\n",
              "      <td>0</td>\n",
              "      <td>370376</td>\n",
              "      <td>7.7500</td>\n",
              "      <td>NaN</td>\n",
              "      <td>Q</td>\n",
              "    </tr>\n",
              "  </tbody>\n",
              "</table>\n",
              "<p>891 rows × 12 columns</p>\n",
              "</div>"
            ],
            "text/plain": [
              "     PassengerId  Survived  Pclass  ...     Fare Cabin  Embarked\n",
              "0              1         0       3  ...   7.2500   NaN         S\n",
              "1              2         1       1  ...  71.2833   C85         C\n",
              "2              3         1       3  ...   7.9250   NaN         S\n",
              "3              4         1       1  ...  53.1000  C123         S\n",
              "4              5         0       3  ...   8.0500   NaN         S\n",
              "..           ...       ...     ...  ...      ...   ...       ...\n",
              "886          887         0       2  ...  13.0000   NaN         S\n",
              "887          888         1       1  ...  30.0000   B42         S\n",
              "888          889         0       3  ...  23.4500   NaN         S\n",
              "889          890         1       1  ...  30.0000  C148         C\n",
              "890          891         0       3  ...   7.7500   NaN         Q\n",
              "\n",
              "[891 rows x 12 columns]"
            ]
          },
          "metadata": {
            "tags": []
          },
          "execution_count": 927
        }
      ]
    },
    {
      "cell_type": "code",
      "metadata": {
        "id": "0CbHqB50heEE",
        "colab_type": "code",
        "outputId": "6d1b6362-5c39-481c-fa64-474912412d45",
        "colab": {
          "base_uri": "https://localhost:8080/",
          "height": 67
        }
      },
      "source": [
        "dataset.columns"
      ],
      "execution_count": 0,
      "outputs": [
        {
          "output_type": "execute_result",
          "data": {
            "text/plain": [
              "Index(['PassengerId', 'Survived', 'Pclass', 'Name', 'Sex', 'Age', 'SibSp',\n",
              "       'Parch', 'Ticket', 'Fare', 'Cabin', 'Embarked'],\n",
              "      dtype='object')"
            ]
          },
          "metadata": {
            "tags": []
          },
          "execution_count": 928
        }
      ]
    },
    {
      "cell_type": "markdown",
      "metadata": {
        "id": "YFQx0Ecu2G9X",
        "colab_type": "text"
      },
      "source": [
        "As we can see, we have number of columns,twelve to be exact.As we all know, neural networks love data, and I will try to minimize the loss of data."
      ]
    },
    {
      "cell_type": "code",
      "metadata": {
        "id": "NskT9lP5hgwX",
        "colab_type": "code",
        "colab": {}
      },
      "source": [
        "feature_columns = dataset[['Pclass','Sex','Age','SibSp','Parch','Ticket','Fare','Cabin','Embarked']]"
      ],
      "execution_count": 0,
      "outputs": []
    },
    {
      "cell_type": "markdown",
      "metadata": {
        "id": "Drc-cSSZ2i_H",
        "colab_type": "text"
      },
      "source": [
        "I selected this columns, dropping only PassengerId and the name of the passenger, but as we go down further I will drop a few more, because if I will the column with whatever the value is, it might change the whole correlation between each column and the dependant variable."
      ]
    },
    {
      "cell_type": "code",
      "metadata": {
        "id": "7bTXCkyHiWR1",
        "colab_type": "code",
        "colab": {}
      },
      "source": [
        "survived = dataset['Survived'].values #This is the dependant variable"
      ],
      "execution_count": 0,
      "outputs": []
    },
    {
      "cell_type": "code",
      "metadata": {
        "id": "9ufM2xqCieAf",
        "colab_type": "code",
        "outputId": "8bb0f5c1-2315-44d6-a6be-19196cf63d12",
        "colab": {
          "base_uri": "https://localhost:8080/",
          "height": 360
        }
      },
      "source": [
        "grid = sns.FacetGrid(dataset, col='Survived', row='Sex', size=2.2, aspect=1.6)\n",
        "grid.map(plt.hist, 'Age', alpha=.5, bins=15)\n",
        "grid.add_legend();"
      ],
      "execution_count": 0,
      "outputs": [
        {
          "output_type": "stream",
          "text": [
            "/usr/local/lib/python3.6/dist-packages/seaborn/axisgrid.py:230: UserWarning: The `size` paramter has been renamed to `height`; please update your code.\n",
            "  warnings.warn(msg, UserWarning)\n"
          ],
          "name": "stderr"
        },
        {
          "output_type": "display_data",
          "data": {
            "image/png": "[encoded data removed]",
            "text/plain": [
              "<Figure size 514.88x316.8 with 4 Axes>"
            ]
          },
          "metadata": {
            "tags": []
          }
        }
      ]
    },
    {
      "cell_type": "markdown",
      "metadata": {
        "id": "NLLbJj3P6jcG",
        "colab_type": "text"
      },
      "source": [
        "As we can see the mortality rate in the men department is much higher. This is all logical, because as we know, the women and children are first on the life boats. And we can conclude one additional thing, a lot more younger men died that night, than older ones."
      ]
    },
    {
      "cell_type": "code",
      "metadata": {
        "id": "os8KRr0qo3Oi",
        "colab_type": "code",
        "outputId": "53b301e2-02b2-4988-d5f8-00a2cb660fa8",
        "colab": {
          "base_uri": "https://localhost:8080/",
          "height": 262
        }
      },
      "source": [
        "feature_columns['Pclass'].value_counts(normalize=True).plot(kind='bar',alpha=0.5)\n",
        "plt.show()"
      ],
      "execution_count": 0,
      "outputs": [
        {
          "output_type": "display_data",
          "data": {
            "image/png": "[encoded data removed]",
            "text/plain": [
              "<Figure size 432x288 with 1 Axes>"
            ]
          },
          "metadata": {
            "tags": []
          }
        }
      ]
    },
    {
      "cell_type": "markdown",
      "metadata": {
        "id": "FXuWsAjoAbym",
        "colab_type": "text"
      },
      "source": [
        "Here the third class passengers are the majority,they are two times the first and the second class."
      ]
    },
    {
      "cell_type": "code",
      "metadata": {
        "id": "F1xy9SOJ8BCK",
        "colab_type": "code",
        "outputId": "08249754-5138-4786-8530-25beaa896d53",
        "colab": {
          "base_uri": "https://localhost:8080/",
          "height": 166
        }
      },
      "source": [
        "plt.figure(figsize=(17,10))\n",
        "plt.subplot2grid((4,3),(2,0),colspan=2)\n",
        "for i in [1,2,3]:\n",
        "  feature_columns.Age[feature_columns.Pclass == i].plot(kind='kde')\n",
        "plt.legend(('1st','2nd','3rd'))\n",
        "plt.show()"
      ],
      "execution_count": 0,
      "outputs": [
        {
          "output_type": "display_data",
          "data": {
            "image/png": "[encoded data removed]",
            "text/plain": [
              "<Figure size 1224x720 with 1 Axes>"
            ]
          },
          "metadata": {
            "tags": []
          }
        }
      ]
    },
    {
      "cell_type": "markdown",
      "metadata": {
        "id": "lx6mO3bUApFB",
        "colab_type": "text"
      },
      "source": [
        "This graphic shows us that the younger the passenger is, the more likely he/she is to buy a cheaper class - third class in this case."
      ]
    },
    {
      "cell_type": "code",
      "metadata": {
        "id": "DlY-taSo93mm",
        "colab_type": "code",
        "outputId": "bfabe862-0a8c-4f76-b932-3283123e48e6",
        "colab": {
          "base_uri": "https://localhost:8080/",
          "height": 162
        }
      },
      "source": [
        "plt.figure(figsize=(17,10))\n",
        "plt.subplot2grid((4,5),(0,0))\n",
        "dataset.Survived.value_counts(normalize=True).plot(kind='bar',alpha=0.9)\n",
        "plt.show()"
      ],
      "execution_count": 0,
      "outputs": [
        {
          "output_type": "display_data",
          "data": {
            "image/png": "[encoded data removed]",
            "text/plain": [
              "<Figure size 1224x720 with 1 Axes>"
            ]
          },
          "metadata": {
            "tags": []
          }
        }
      ]
    },
    {
      "cell_type": "markdown",
      "metadata": {
        "id": "4CVC8FAUBAAv",
        "colab_type": "text"
      },
      "source": [
        "It is shown that as many as 60 percent of the passengers have dies in this accident."
      ]
    },
    {
      "cell_type": "code",
      "metadata": {
        "id": "QhazGRP5-lIz",
        "colab_type": "code",
        "outputId": "055d3e74-660c-4806-a36a-4dd9f1e9bbcb",
        "colab": {
          "base_uri": "https://localhost:8080/",
          "height": 178
        }
      },
      "source": [
        "plt.figure(figsize=(17,10))\n",
        "plt.subplot2grid((4,5),(0,0))\n",
        "dataset['Survived'][feature_columns['Sex']=='male'].value_counts(normalize=True).plot(kind='bar',alpha=0.9)\n",
        "plt.title('Men Survived')\n",
        "plt.show()"
      ],
      "execution_count": 0,
      "outputs": [
        {
          "output_type": "display_data",
          "data": {
            "image/png": "[encoded data removed]",
            "text/plain": [
              "<Figure size 1224x720 with 1 Axes>"
            ]
          },
          "metadata": {
            "tags": []
          }
        }
      ]
    },
    {
      "cell_type": "markdown",
      "metadata": {
        "id": "OGAa66c4BSGP",
        "colab_type": "text"
      },
      "source": [
        "No matter the money posession, or anything else really, the mortality in this graph dedicated to the men, speaks for itself."
      ]
    },
    {
      "cell_type": "code",
      "metadata": {
        "id": "aTEzbVhQ_EDU",
        "colab_type": "code",
        "outputId": "231d2501-32bc-4b2f-b829-9507f342b928",
        "colab": {
          "base_uri": "https://localhost:8080/",
          "height": 178
        }
      },
      "source": [
        "plt.figure(figsize=(17,10))\n",
        "plt.subplot2grid((4,5),(0,0))\n",
        "dataset['Survived'][feature_columns['Sex']=='female'].value_counts(normalize=True).plot(kind='bar',alpha=0.9)\n",
        "plt.title('Women Survived')\n",
        "plt.show()"
      ],
      "execution_count": 0,
      "outputs": [
        {
          "output_type": "display_data",
          "data": {
            "image/png": "[encoded data removed]",
            "text/plain": [
              "<Figure size 1224x720 with 1 Axes>"
            ]
          },
          "metadata": {
            "tags": []
          }
        }
      ]
    },
    {
      "cell_type": "markdown",
      "metadata": {
        "id": "UUDh-TdKBj00",
        "colab_type": "text"
      },
      "source": [
        "It for sure is different for the women, they are as high as 70 percent saved."
      ]
    },
    {
      "cell_type": "code",
      "metadata": {
        "id": "LsPfGChV_fnb",
        "colab_type": "code",
        "outputId": "97b9e2a6-d81f-4714-ed80-fdf621a25fa5",
        "colab": {
          "base_uri": "https://localhost:8080/",
          "height": 166
        }
      },
      "source": [
        "plt.figure(figsize=(17,10))\n",
        "plt.subplot2grid((4,3),(2,0),colspan=2)\n",
        "for i in [1,2,3]:\n",
        "  dataset.Survived[feature_columns.Pclass == i].plot(kind='kde')\n",
        "plt.legend(('1st','2nd','3rd'))\n",
        "plt.show()"
      ],
      "execution_count": 0,
      "outputs": [
        {
          "output_type": "display_data",
          "data": {
            "image/png": "[encoded data removed]",
            "text/plain": [
              "<Figure size 1224x720 with 1 Axes>"
            ]
          },
          "metadata": {
            "tags": []
          }
        }
      ]
    },
    {
      "cell_type": "markdown",
      "metadata": {
        "id": "r8D26tsxBujK",
        "colab_type": "text"
      },
      "source": [
        "Here we can see that the passengers in the lowest class-third class, has the highest mortality rate of the three."
      ]
    },
    {
      "cell_type": "code",
      "metadata": {
        "id": "ZVZtOZKFqvAr",
        "colab_type": "code",
        "outputId": "c71d432e-1556-4407-87d0-d3265e087bf6",
        "colab": {
          "base_uri": "https://localhost:8080/",
          "height": 168
        }
      },
      "source": [
        "for i in feature_columns.columns:\n",
        "  if feature_columns[i].isnull().any():\n",
        "    print(i)\n",
        "  else:\n",
        "    print('not in that column  ' + i)"
      ],
      "execution_count": 0,
      "outputs": [
        {
          "output_type": "stream",
          "text": [
            "not in that column  Pclass\n",
            "not in that column  Sex\n",
            "Age\n",
            "not in that column  SibSp\n",
            "not in that column  Parch\n",
            "not in that column  Ticket\n",
            "not in that column  Fare\n",
            "Cabin\n",
            "Embarked\n"
          ],
          "name": "stdout"
        }
      ]
    },
    {
      "cell_type": "markdown",
      "metadata": {
        "id": "H5CyGoJgB8bg",
        "colab_type": "text"
      },
      "source": [
        "Checking if the columns contains NaN values, because as we all know, they are not to be messed with, and sometimes the model does not work properly if we do not get rid of them."
      ]
    },
    {
      "cell_type": "code",
      "metadata": {
        "id": "pri6IkAbry7m",
        "colab_type": "code",
        "outputId": "33b93dca-af27-4a01-fc1b-9ea5cb4bb615",
        "colab": {
          "base_uri": "https://localhost:8080/",
          "height": 118
        }
      },
      "source": [
        "feature_columns['Age'] = feature_columns['Age'].fillna(feature_columns['Age'].mean()) #Filling the column with mean()"
      ],
      "execution_count": 0,
      "outputs": [
        {
          "output_type": "stream",
          "text": [
            "/usr/local/lib/python3.6/dist-packages/ipykernel_launcher.py:1: SettingWithCopyWarning: \n",
            "A value is trying to be set on a copy of a slice from a DataFrame.\n",
            "Try using .loc[row_indexer,col_indexer] = value instead\n",
            "\n",
            "See the caveats in the documentation: http://pandas.pydata.org/pandas-docs/stable/user_guide/indexing.html#returning-a-view-versus-a-copy\n",
            "  \"\"\"Entry point for launching an IPython kernel.\n"
          ],
          "name": "stderr"
        }
      ]
    },
    {
      "cell_type": "code",
      "metadata": {
        "id": "6NMj92UGsywE",
        "colab_type": "code",
        "outputId": "9ee98c68-ad4e-49c4-fd12-21dff952c3d3",
        "colab": {
          "base_uri": "https://localhost:8080/",
          "height": 34
        }
      },
      "source": [
        "feature_columns['Age'].isnull().any()"
      ],
      "execution_count": 0,
      "outputs": [
        {
          "output_type": "execute_result",
          "data": {
            "text/plain": [
              "False"
            ]
          },
          "metadata": {
            "tags": []
          },
          "execution_count": 940
        }
      ]
    },
    {
      "cell_type": "markdown",
      "metadata": {
        "id": "EtXsXjM0CS3t",
        "colab_type": "text"
      },
      "source": [
        "I filled the missing values which were not so much, with the mean of the column.It is a common practice to do so."
      ]
    },
    {
      "cell_type": "code",
      "metadata": {
        "id": "odrGFv68tITb",
        "colab_type": "code",
        "outputId": "892a3031-99f8-4f49-93b9-30135f2ee492",
        "colab": {
          "base_uri": "https://localhost:8080/",
          "height": 218
        }
      },
      "source": [
        "feature_columns['Cabin'].value_counts()"
      ],
      "execution_count": 0,
      "outputs": [
        {
          "output_type": "execute_result",
          "data": {
            "text/plain": [
              "G6             4\n",
              "B96 B98        4\n",
              "C23 C25 C27    4\n",
              "D              3\n",
              "F2             3\n",
              "              ..\n",
              "D56            1\n",
              "E77            1\n",
              "C49            1\n",
              "E31            1\n",
              "B39            1\n",
              "Name: Cabin, Length: 147, dtype: int64"
            ]
          },
          "metadata": {
            "tags": []
          },
          "execution_count": 941
        }
      ]
    },
    {
      "cell_type": "code",
      "metadata": {
        "id": "nX0smdhbuoIa",
        "colab_type": "code",
        "colab": {}
      },
      "source": [
        "feature_columns = feature_columns.drop('Cabin',axis=1)"
      ],
      "execution_count": 0,
      "outputs": []
    },
    {
      "cell_type": "markdown",
      "metadata": {
        "id": "N3wsROXnCjAz",
        "colab_type": "text"
      },
      "source": [
        "Even though this column contains some data, I do not think it will contribute with something. Moreover it is really hard to encode the data,and if somehow we encode it, I do not think it will represent the column at is it meant to be...so I dropped it"
      ]
    },
    {
      "cell_type": "code",
      "metadata": {
        "id": "TE8deLNVu0K7",
        "colab_type": "code",
        "colab": {}
      },
      "source": [
        "from sklearn.preprocessing import StandardScaler,LabelEncoder,OneHotEncoder\n",
        "#Importing the necessary stuff"
      ],
      "execution_count": 0,
      "outputs": []
    },
    {
      "cell_type": "code",
      "metadata": {
        "id": "RWd6G-javuYl",
        "colab_type": "code",
        "colab": {}
      },
      "source": [
        "feature_columns = feature_columns.drop('Ticket',axis=1)"
      ],
      "execution_count": 0,
      "outputs": []
    },
    {
      "cell_type": "markdown",
      "metadata": {
        "id": "Ins299vMDAD7",
        "colab_type": "text"
      },
      "source": [
        "Same with the Ticket column,I better drop it because it is really hard to encode, and it does not contribute with something important"
      ]
    },
    {
      "cell_type": "code",
      "metadata": {
        "id": "_sNrAsF9vygT",
        "colab_type": "code",
        "outputId": "5c0a968a-3c2e-4405-f369-9f26614aa6f0",
        "colab": {
          "base_uri": "https://localhost:8080/",
          "height": 402
        }
      },
      "source": [
        "feature_columns"
      ],
      "execution_count": 0,
      "outputs": [
        {
          "output_type": "execute_result",
          "data": {
            "text/html": [
              "<div>\n",
              "<style scoped>\n",
              "    .dataframe tbody tr th:only-of-type {\n",
              "        vertical-align: middle;\n",
              "    }\n",
              "\n",
              "    .dataframe tbody tr th {\n",
              "        vertical-align: top;\n",
              "    }\n",
              "\n",
              "    .dataframe thead th {\n",
              "        text-align: right;\n",
              "    }\n",
              "</style>\n",
              "<table border=\"1\" class=\"dataframe\">\n",
              "  <thead>\n",
              "    <tr style=\"text-align: right;\">\n",
              "      <th></th>\n",
              "      <th>Pclass</th>\n",
              "      <th>Sex</th>\n",
              "      <th>Age</th>\n",
              "      <th>SibSp</th>\n",
              "      <th>Parch</th>\n",
              "      <th>Fare</th>\n",
              "      <th>Embarked</th>\n",
              "    </tr>\n",
              "  </thead>\n",
              "  <tbody>\n",
              "    <tr>\n",
              "      <th>0</th>\n",
              "      <td>3</td>\n",
              "      <td>male</td>\n",
              "      <td>22.000000</td>\n",
              "      <td>1</td>\n",
              "      <td>0</td>\n",
              "      <td>7.2500</td>\n",
              "      <td>S</td>\n",
              "    </tr>\n",
              "    <tr>\n",
              "      <th>1</th>\n",
              "      <td>1</td>\n",
              "      <td>female</td>\n",
              "      <td>38.000000</td>\n",
              "      <td>1</td>\n",
              "      <td>0</td>\n",
              "      <td>71.2833</td>\n",
              "      <td>C</td>\n",
              "    </tr>\n",
              "    <tr>\n",
              "      <th>2</th>\n",
              "      <td>3</td>\n",
              "      <td>female</td>\n",
              "      <td>26.000000</td>\n",
              "      <td>0</td>\n",
              "      <td>0</td>\n",
              "      <td>7.9250</td>\n",
              "      <td>S</td>\n",
              "    </tr>\n",
              "    <tr>\n",
              "      <th>3</th>\n",
              "      <td>1</td>\n",
              "      <td>female</td>\n",
              "      <td>35.000000</td>\n",
              "      <td>1</td>\n",
              "      <td>0</td>\n",
              "      <td>53.1000</td>\n",
              "      <td>S</td>\n",
              "    </tr>\n",
              "    <tr>\n",
              "      <th>4</th>\n",
              "      <td>3</td>\n",
              "      <td>male</td>\n",
              "      <td>35.000000</td>\n",
              "      <td>0</td>\n",
              "      <td>0</td>\n",
              "      <td>8.0500</td>\n",
              "      <td>S</td>\n",
              "    </tr>\n",
              "    <tr>\n",
              "      <th>...</th>\n",
              "      <td>...</td>\n",
              "      <td>...</td>\n",
              "      <td>...</td>\n",
              "      <td>...</td>\n",
              "      <td>...</td>\n",
              "      <td>...</td>\n",
              "      <td>...</td>\n",
              "    </tr>\n",
              "    <tr>\n",
              "      <th>886</th>\n",
              "      <td>2</td>\n",
              "      <td>male</td>\n",
              "      <td>27.000000</td>\n",
              "      <td>0</td>\n",
              "      <td>0</td>\n",
              "      <td>13.0000</td>\n",
              "      <td>S</td>\n",
              "    </tr>\n",
              "    <tr>\n",
              "      <th>887</th>\n",
              "      <td>1</td>\n",
              "      <td>female</td>\n",
              "      <td>19.000000</td>\n",
              "      <td>0</td>\n",
              "      <td>0</td>\n",
              "      <td>30.0000</td>\n",
              "      <td>S</td>\n",
              "    </tr>\n",
              "    <tr>\n",
              "      <th>888</th>\n",
              "      <td>3</td>\n",
              "      <td>female</td>\n",
              "      <td>29.699118</td>\n",
              "      <td>1</td>\n",
              "      <td>2</td>\n",
              "      <td>23.4500</td>\n",
              "      <td>S</td>\n",
              "    </tr>\n",
              "    <tr>\n",
              "      <th>889</th>\n",
              "      <td>1</td>\n",
              "      <td>male</td>\n",
              "      <td>26.000000</td>\n",
              "      <td>0</td>\n",
              "      <td>0</td>\n",
              "      <td>30.0000</td>\n",
              "      <td>C</td>\n",
              "    </tr>\n",
              "    <tr>\n",
              "      <th>890</th>\n",
              "      <td>3</td>\n",
              "      <td>male</td>\n",
              "      <td>32.000000</td>\n",
              "      <td>0</td>\n",
              "      <td>0</td>\n",
              "      <td>7.7500</td>\n",
              "      <td>Q</td>\n",
              "    </tr>\n",
              "  </tbody>\n",
              "</table>\n",
              "<p>891 rows × 7 columns</p>\n",
              "</div>"
            ],
            "text/plain": [
              "     Pclass     Sex        Age  SibSp  Parch     Fare Embarked\n",
              "0         3    male  22.000000      1      0   7.2500        S\n",
              "1         1  female  38.000000      1      0  71.2833        C\n",
              "2         3  female  26.000000      0      0   7.9250        S\n",
              "3         1  female  35.000000      1      0  53.1000        S\n",
              "4         3    male  35.000000      0      0   8.0500        S\n",
              "..      ...     ...        ...    ...    ...      ...      ...\n",
              "886       2    male  27.000000      0      0  13.0000        S\n",
              "887       1  female  19.000000      0      0  30.0000        S\n",
              "888       3  female  29.699118      1      2  23.4500        S\n",
              "889       1    male  26.000000      0      0  30.0000        C\n",
              "890       3    male  32.000000      0      0   7.7500        Q\n",
              "\n",
              "[891 rows x 7 columns]"
            ]
          },
          "metadata": {
            "tags": []
          },
          "execution_count": 945
        }
      ]
    },
    {
      "cell_type": "code",
      "metadata": {
        "id": "0Sovn4UlwPun",
        "colab_type": "code",
        "colab": {}
      },
      "source": [
        "le = LabelEncoder()\n",
        "sex_column = le.fit_transform(feature_columns['Sex'])"
      ],
      "execution_count": 0,
      "outputs": []
    },
    {
      "cell_type": "code",
      "metadata": {
        "id": "Oyy0vDWHwZ9t",
        "colab_type": "code",
        "colab": {}
      },
      "source": [
        "sex_column = pd.DataFrame(sex_column)"
      ],
      "execution_count": 0,
      "outputs": []
    },
    {
      "cell_type": "code",
      "metadata": {
        "id": "MMEBjIwLwpkP",
        "colab_type": "code",
        "colab": {}
      },
      "source": [
        "feature_columns = feature_columns.drop('Sex',axis=1)"
      ],
      "execution_count": 0,
      "outputs": []
    },
    {
      "cell_type": "code",
      "metadata": {
        "id": "fB2tCWOFwtoG",
        "colab_type": "code",
        "colab": {}
      },
      "source": [
        "feature_columns['Sex'] = sex_column"
      ],
      "execution_count": 0,
      "outputs": []
    },
    {
      "cell_type": "markdown",
      "metadata": {
        "id": "bWyiPofsDOYU",
        "colab_type": "text"
      },
      "source": [
        "Making an instance of the LabelEncoder in the latter cells.Encoding the Sex column, because it was categorical, which could lead to errors in the model later."
      ]
    },
    {
      "cell_type": "code",
      "metadata": {
        "id": "lqKZvPAJw2vY",
        "colab_type": "code",
        "outputId": "557d2543-2e18-462b-aef6-0b7303e21e6c",
        "colab": {
          "base_uri": "https://localhost:8080/",
          "height": 402
        }
      },
      "source": [
        "feature_columns"
      ],
      "execution_count": 0,
      "outputs": [
        {
          "output_type": "execute_result",
          "data": {
            "text/html": [
              "<div>\n",
              "<style scoped>\n",
              "    .dataframe tbody tr th:only-of-type {\n",
              "        vertical-align: middle;\n",
              "    }\n",
              "\n",
              "    .dataframe tbody tr th {\n",
              "        vertical-align: top;\n",
              "    }\n",
              "\n",
              "    .dataframe thead th {\n",
              "        text-align: right;\n",
              "    }\n",
              "</style>\n",
              "<table border=\"1\" class=\"dataframe\">\n",
              "  <thead>\n",
              "    <tr style=\"text-align: right;\">\n",
              "      <th></th>\n",
              "      <th>Pclass</th>\n",
              "      <th>Age</th>\n",
              "      <th>SibSp</th>\n",
              "      <th>Parch</th>\n",
              "      <th>Fare</th>\n",
              "      <th>Embarked</th>\n",
              "      <th>Sex</th>\n",
              "    </tr>\n",
              "  </thead>\n",
              "  <tbody>\n",
              "    <tr>\n",
              "      <th>0</th>\n",
              "      <td>3</td>\n",
              "      <td>22.000000</td>\n",
              "      <td>1</td>\n",
              "      <td>0</td>\n",
              "      <td>7.2500</td>\n",
              "      <td>S</td>\n",
              "      <td>1</td>\n",
              "    </tr>\n",
              "    <tr>\n",
              "      <th>1</th>\n",
              "      <td>1</td>\n",
              "      <td>38.000000</td>\n",
              "      <td>1</td>\n",
              "      <td>0</td>\n",
              "      <td>71.2833</td>\n",
              "      <td>C</td>\n",
              "      <td>0</td>\n",
              "    </tr>\n",
              "    <tr>\n",
              "      <th>2</th>\n",
              "      <td>3</td>\n",
              "      <td>26.000000</td>\n",
              "      <td>0</td>\n",
              "      <td>0</td>\n",
              "      <td>7.9250</td>\n",
              "      <td>S</td>\n",
              "      <td>0</td>\n",
              "    </tr>\n",
              "    <tr>\n",
              "      <th>3</th>\n",
              "      <td>1</td>\n",
              "      <td>35.000000</td>\n",
              "      <td>1</td>\n",
              "      <td>0</td>\n",
              "      <td>53.1000</td>\n",
              "      <td>S</td>\n",
              "      <td>0</td>\n",
              "    </tr>\n",
              "    <tr>\n",
              "      <th>4</th>\n",
              "      <td>3</td>\n",
              "      <td>35.000000</td>\n",
              "      <td>0</td>\n",
              "      <td>0</td>\n",
              "      <td>8.0500</td>\n",
              "      <td>S</td>\n",
              "      <td>1</td>\n",
              "    </tr>\n",
              "    <tr>\n",
              "      <th>...</th>\n",
              "      <td>...</td>\n",
              "      <td>...</td>\n",
              "      <td>...</td>\n",
              "      <td>...</td>\n",
              "      <td>...</td>\n",
              "      <td>...</td>\n",
              "      <td>...</td>\n",
              "    </tr>\n",
              "    <tr>\n",
              "      <th>886</th>\n",
              "      <td>2</td>\n",
              "      <td>27.000000</td>\n",
              "      <td>0</td>\n",
              "      <td>0</td>\n",
              "      <td>13.0000</td>\n",
              "      <td>S</td>\n",
              "      <td>1</td>\n",
              "    </tr>\n",
              "    <tr>\n",
              "      <th>887</th>\n",
              "      <td>1</td>\n",
              "      <td>19.000000</td>\n",
              "      <td>0</td>\n",
              "      <td>0</td>\n",
              "      <td>30.0000</td>\n",
              "      <td>S</td>\n",
              "      <td>0</td>\n",
              "    </tr>\n",
              "    <tr>\n",
              "      <th>888</th>\n",
              "      <td>3</td>\n",
              "      <td>29.699118</td>\n",
              "      <td>1</td>\n",
              "      <td>2</td>\n",
              "      <td>23.4500</td>\n",
              "      <td>S</td>\n",
              "      <td>0</td>\n",
              "    </tr>\n",
              "    <tr>\n",
              "      <th>889</th>\n",
              "      <td>1</td>\n",
              "      <td>26.000000</td>\n",
              "      <td>0</td>\n",
              "      <td>0</td>\n",
              "      <td>30.0000</td>\n",
              "      <td>C</td>\n",
              "      <td>1</td>\n",
              "    </tr>\n",
              "    <tr>\n",
              "      <th>890</th>\n",
              "      <td>3</td>\n",
              "      <td>32.000000</td>\n",
              "      <td>0</td>\n",
              "      <td>0</td>\n",
              "      <td>7.7500</td>\n",
              "      <td>Q</td>\n",
              "      <td>1</td>\n",
              "    </tr>\n",
              "  </tbody>\n",
              "</table>\n",
              "<p>891 rows × 7 columns</p>\n",
              "</div>"
            ],
            "text/plain": [
              "     Pclass        Age  SibSp  Parch     Fare Embarked  Sex\n",
              "0         3  22.000000      1      0   7.2500        S    1\n",
              "1         1  38.000000      1      0  71.2833        C    0\n",
              "2         3  26.000000      0      0   7.9250        S    0\n",
              "3         1  35.000000      1      0  53.1000        S    0\n",
              "4         3  35.000000      0      0   8.0500        S    1\n",
              "..      ...        ...    ...    ...      ...      ...  ...\n",
              "886       2  27.000000      0      0  13.0000        S    1\n",
              "887       1  19.000000      0      0  30.0000        S    0\n",
              "888       3  29.699118      1      2  23.4500        S    0\n",
              "889       1  26.000000      0      0  30.0000        C    1\n",
              "890       3  32.000000      0      0   7.7500        Q    1\n",
              "\n",
              "[891 rows x 7 columns]"
            ]
          },
          "metadata": {
            "tags": []
          },
          "execution_count": 950
        }
      ]
    },
    {
      "cell_type": "code",
      "metadata": {
        "id": "g1-7jd8mw31C",
        "colab_type": "code",
        "colab": {}
      },
      "source": [
        "ohe = OneHotEncoder() #Making instance of OneHotEncoder"
      ],
      "execution_count": 0,
      "outputs": []
    },
    {
      "cell_type": "code",
      "metadata": {
        "id": "PC1PEJ-FxQ0g",
        "colab_type": "code",
        "colab": {}
      },
      "source": [
        "mapping = {'S':0,'C':1,'Q':2} "
      ],
      "execution_count": 0,
      "outputs": []
    },
    {
      "cell_type": "code",
      "metadata": {
        "id": "t7PIW-chxZKh",
        "colab_type": "code",
        "colab": {}
      },
      "source": [
        "feature_columns['Embarked'] = feature_columns['Embarked'].map(mapping) #Mapping categorical to numerical data"
      ],
      "execution_count": 0,
      "outputs": []
    },
    {
      "cell_type": "code",
      "metadata": {
        "id": "c5DRer-yD8mb",
        "colab_type": "code",
        "colab": {}
      },
      "source": [
        ""
      ],
      "execution_count": 0,
      "outputs": []
    },
    {
      "cell_type": "code",
      "metadata": {
        "id": "GbBrZN8sySyP",
        "colab_type": "code",
        "colab": {}
      },
      "source": [
        "scaler = StandardScaler()\n",
        "fare_scaler = StandardScaler()\n",
        "age = scaler.fit_transform(np.reshape(feature_columns['Age'].values,(-1,1)))\n",
        "fare = fare_scaler.fit_transform(np.reshape(feature_columns['Fare'].values,(-1,1)))"
      ],
      "execution_count": 0,
      "outputs": []
    },
    {
      "cell_type": "code",
      "metadata": {
        "id": "Lz6ivM0oyUF5",
        "colab_type": "code",
        "colab": {}
      },
      "source": [
        "feature_columns = feature_columns.drop('Age',axis=1)"
      ],
      "execution_count": 0,
      "outputs": []
    },
    {
      "cell_type": "code",
      "metadata": {
        "id": "K_Wl6_m2zciN",
        "colab_type": "code",
        "colab": {}
      },
      "source": [
        "feature_columns = feature_columns.drop('Fare',axis=1)"
      ],
      "execution_count": 0,
      "outputs": []
    },
    {
      "cell_type": "code",
      "metadata": {
        "id": "ZGKzH32LzhgH",
        "colab_type": "code",
        "colab": {}
      },
      "source": [
        "feature_columns['Age'] = age\n",
        "feature_columns['Fare'] = fare"
      ],
      "execution_count": 0,
      "outputs": []
    },
    {
      "cell_type": "markdown",
      "metadata": {
        "id": "KvE9Eqo7D3cR",
        "colab_type": "text"
      },
      "source": [
        "Making two separate instance of StandardScaler. Before we fit_transform the target column, it has to be a tensor with nx1 dimensions. This is why it is a little bit unclear but it does the job in one line. Then we replace the old categorical columns with the encoded one."
      ]
    },
    {
      "cell_type": "code",
      "metadata": {
        "id": "lIjxVqYvEbQK",
        "colab_type": "code",
        "colab": {}
      },
      "source": [
        ""
      ],
      "execution_count": 0,
      "outputs": []
    },
    {
      "cell_type": "code",
      "metadata": {
        "id": "0a-tTw2gzos5",
        "colab_type": "code",
        "colab": {}
      },
      "source": [
        "X_train = feature_columns\n",
        "X_train,X_test,y_train,y_test = train_test_split(feature_columns,survived,test_size=0.2) #Splitting the data"
      ],
      "execution_count": 0,
      "outputs": []
    },
    {
      "cell_type": "code",
      "metadata": {
        "id": "wbHw9B2tPOOv",
        "colab_type": "code",
        "outputId": "28c890e6-f59c-4c92-c8ce-1962891b7acd",
        "colab": {
          "base_uri": "https://localhost:8080/",
          "height": 134
        }
      },
      "source": [
        "X_train['Embarked'] = X_train['Embarked'].fillna(0)\n",
        "X_test['Embarked'].isnull().any() #More encoding "
      ],
      "execution_count": 0,
      "outputs": [
        {
          "output_type": "stream",
          "text": [
            "/usr/local/lib/python3.6/dist-packages/ipykernel_launcher.py:1: SettingWithCopyWarning: \n",
            "A value is trying to be set on a copy of a slice from a DataFrame.\n",
            "Try using .loc[row_indexer,col_indexer] = value instead\n",
            "\n",
            "See the caveats in the documentation: http://pandas.pydata.org/pandas-docs/stable/user_guide/indexing.html#returning-a-view-versus-a-copy\n",
            "  \"\"\"Entry point for launching an IPython kernel.\n"
          ],
          "name": "stderr"
        },
        {
          "output_type": "execute_result",
          "data": {
            "text/plain": [
              "True"
            ]
          },
          "metadata": {
            "tags": []
          },
          "execution_count": 959
        }
      ]
    },
    {
      "cell_type": "code",
      "metadata": {
        "id": "OkH3Q1fOzp1c",
        "colab_type": "code",
        "colab": {}
      },
      "source": [
        "from tensorflow.keras.layers import Dense,Activation,Dropout\n",
        "from tensorflow.keras.models import Sequential\n",
        "from tensorflow import keras #Importing the needed layers and models from tensorflow.keras"
      ],
      "execution_count": 0,
      "outputs": []
    },
    {
      "cell_type": "code",
      "metadata": {
        "id": "T7ntN0q9G6OP",
        "colab_type": "code",
        "colab": {}
      },
      "source": [
        "model = Sequential()\n",
        "\n",
        "model.add(Dense(32, input_dim=X_train.shape[1], activation=\"relu\", kernel_initializer=\"he_normal\"))\n",
        "model.add(Dense(64, activation=\"relu\", kernel_initializer=\"he_normal\"))\n",
        "model.add(Dense(128, activation=\"relu\", kernel_initializer=\"he_normal\"))\n",
        "model.add(keras.layers.Dropout(0.3))\n",
        "\n",
        "model.add(Dense(512, activation=\"relu\", kernel_initializer=\"he_normal\"))\n",
        "model.add(Dense(512, activation=\"relu\", kernel_initializer=\"he_normal\"))\n",
        "model.add(Dense(512, activation=\"relu\", kernel_initializer=\"he_normal\"))\n",
        "model.add(keras.layers.Dropout(0.3))\n",
        "\n",
        "model.add(Dense(512, activation=\"relu\", kernel_initializer=\"he_normal\"))\n",
        "model.add(Dense(512, activation=\"relu\", kernel_initializer=\"he_normal\"))\n",
        "model.add(Dense(512, activation=\"relu\", kernel_initializer=\"he_normal\"))\n",
        "model.add(keras.layers.Dropout(0.3))\n",
        "\n",
        "model.add(Dense(128, activation=\"relu\", kernel_initializer=\"he_normal\"))\n",
        "model.add(Dense(64, activation=\"relu\", kernel_initializer=\"he_normal\"))\n",
        "model.add(Dense(32, activation=\"relu\", kernel_initializer=\"he_normal\"))\n",
        "model.add(keras.layers.Dropout(0.3))\n",
        "\n",
        "model.add(Dense(1, activation=\"sigmoid\"))\n",
        "model.compile(optimizer=\"adam\", loss='binary_crossentropy', metrics=[\"binary_accuracy\"])"
      ],
      "execution_count": 0,
      "outputs": []
    },
    {
      "cell_type": "markdown",
      "metadata": {
        "id": "btl8sojkFPGS",
        "colab_type": "text"
      },
      "source": [
        "The model is Sequential.That means we could add layers in this order forever or till the computer CPU(in this case) break somehow.\n",
        "The model is pretty straightforward - the input_dim are the columns of the X_train dataset. The activation function I chose(which most people do in such network) is relu. It is firing only if the neuron output goes over value of 0. And this time I tried something new - the kernel_initializer. It is a way of setting the best or optimat weights in order the algorithm to converge faster and learn quicker. The last layers function is sigmoid. This is giving us a value between 0 and 1. We need the values to be 0 or 1. I will convert it with a simple for loop later. The Dropout layer is just preventing the overfitting of the model.\n",
        " The optimizer governs the change of the weights of the synapses. This is how  neural network learns. The loss - this is what we are after. We are trying to minimize it in order our algorithm to converge. It is binary because we have two outcomes - either 0 or 1. The metrics is just an extra to be output during training."
      ]
    },
    {
      "cell_type": "markdown",
      "metadata": {
        "id": "1YBhFfjcGKVH",
        "colab_type": "text"
      },
      "source": [
        ""
      ]
    },
    {
      "cell_type": "code",
      "metadata": {
        "id": "OQrzxm4QML0g",
        "colab_type": "code",
        "outputId": "6ee1a1c0-9a74-41d8-fbfb-d3fe15db940e",
        "colab": {
          "base_uri": "https://localhost:8080/",
          "height": 722
        }
      },
      "source": [
        "model.summary() #Self-explanatory"
      ],
      "execution_count": 0,
      "outputs": [
        {
          "output_type": "stream",
          "text": [
            "Model: \"sequential_53\"\n",
            "_________________________________________________________________\n",
            "Layer (type)                 Output Shape              Param #   \n",
            "=================================================================\n",
            "dense_286 (Dense)            (None, 32)                256       \n",
            "_________________________________________________________________\n",
            "dense_287 (Dense)            (None, 64)                2112      \n",
            "_________________________________________________________________\n",
            "dense_288 (Dense)            (None, 128)               8320      \n",
            "_________________________________________________________________\n",
            "dropout_158 (Dropout)        (None, 128)               0         \n",
            "_________________________________________________________________\n",
            "dense_289 (Dense)            (None, 512)               66048     \n",
            "_________________________________________________________________\n",
            "dense_290 (Dense)            (None, 512)               262656    \n",
            "_________________________________________________________________\n",
            "dense_291 (Dense)            (None, 512)               262656    \n",
            "_________________________________________________________________\n",
            "dropout_159 (Dropout)        (None, 512)               0         \n",
            "_________________________________________________________________\n",
            "dense_292 (Dense)            (None, 512)               262656    \n",
            "_________________________________________________________________\n",
            "dense_293 (Dense)            (None, 512)               262656    \n",
            "_________________________________________________________________\n",
            "dense_294 (Dense)            (None, 512)               262656    \n",
            "_________________________________________________________________\n",
            "dropout_160 (Dropout)        (None, 512)               0         \n",
            "_________________________________________________________________\n",
            "dense_295 (Dense)            (None, 128)               65664     \n",
            "_________________________________________________________________\n",
            "dense_296 (Dense)            (None, 64)                8256      \n",
            "_________________________________________________________________\n",
            "dense_297 (Dense)            (None, 32)                2080      \n",
            "_________________________________________________________________\n",
            "dropout_161 (Dropout)        (None, 32)                0         \n",
            "_________________________________________________________________\n",
            "dense_298 (Dense)            (None, 1)                 33        \n",
            "=================================================================\n",
            "Total params: 1,466,049\n",
            "Trainable params: 1,466,049\n",
            "Non-trainable params: 0\n",
            "_________________________________________________________________\n"
          ],
          "name": "stdout"
        }
      ]
    },
    {
      "cell_type": "code",
      "metadata": {
        "id": "lhsWfGeuMSD_",
        "colab_type": "code",
        "outputId": "366d3611-baa0-4d9a-f6cd-90964d90a45f",
        "colab": {
          "base_uri": "https://localhost:8080/",
          "height": 1000
        }
      },
      "source": [
        "model.fit(X_train,y_train,batch_size=25,epochs=200,shuffle=True,verbose=1)"
      ],
      "execution_count": 0,
      "outputs": [
        {
          "output_type": "stream",
          "text": [
            "Train on 712 samples\n",
            "Epoch 1/200\n",
            "712/712 [==============================] - 1s 2ms/sample - loss: 0.7967 - binary_accuracy: 0.5871\n",
            "Epoch 2/200\n",
            "712/712 [==============================] - 1s 926us/sample - loss: 0.6587 - binary_accuracy: 0.6447\n",
            "Epoch 3/200\n",
            "712/712 [==============================] - 1s 910us/sample - loss: 0.5692 - binary_accuracy: 0.7514\n",
            "Epoch 4/200\n",
            "712/712 [==============================] - 1s 912us/sample - loss: 0.5315 - binary_accuracy: 0.7584\n",
            "Epoch 5/200\n",
            "712/712 [==============================] - 1s 906us/sample - loss: 0.5227 - binary_accuracy: 0.7809\n",
            "Epoch 6/200\n",
            "712/712 [==============================] - 1s 931us/sample - loss: 0.5029 - binary_accuracy: 0.7935\n",
            "Epoch 7/200\n",
            "712/712 [==============================] - 1s 912us/sample - loss: 0.4887 - binary_accuracy: 0.8132\n",
            "Epoch 8/200\n",
            "712/712 [==============================] - 1s 920us/sample - loss: 0.5045 - binary_accuracy: 0.7851\n",
            "Epoch 9/200\n",
            "712/712 [==============================] - 1s 946us/sample - loss: 0.4790 - binary_accuracy: 0.8006\n",
            "Epoch 10/200\n",
            "712/712 [==============================] - 1s 901us/sample - loss: 0.4523 - binary_accuracy: 0.8160\n",
            "Epoch 11/200\n",
            "712/712 [==============================] - 1s 897us/sample - loss: 0.4579 - binary_accuracy: 0.8160\n",
            "Epoch 12/200\n",
            "712/712 [==============================] - 1s 885us/sample - loss: 0.4634 - binary_accuracy: 0.8090\n",
            "Epoch 13/200\n",
            "712/712 [==============================] - 1s 898us/sample - loss: 0.4400 - binary_accuracy: 0.8160\n",
            "Epoch 14/200\n",
            "712/712 [==============================] - 1s 895us/sample - loss: 0.4579 - binary_accuracy: 0.8202\n",
            "Epoch 15/200\n",
            "712/712 [==============================] - 1s 853us/sample - loss: 0.4449 - binary_accuracy: 0.8174\n",
            "Epoch 16/200\n",
            "712/712 [==============================] - 1s 875us/sample - loss: 0.4429 - binary_accuracy: 0.8118\n",
            "Epoch 17/200\n",
            "712/712 [==============================] - 1s 890us/sample - loss: 0.4311 - binary_accuracy: 0.8413\n",
            "Epoch 18/200\n",
            "712/712 [==============================] - 1s 915us/sample - loss: 0.4354 - binary_accuracy: 0.8132\n",
            "Epoch 19/200\n",
            "712/712 [==============================] - 1s 884us/sample - loss: 0.4291 - binary_accuracy: 0.8287\n",
            "Epoch 20/200\n",
            "712/712 [==============================] - 1s 911us/sample - loss: 0.4133 - binary_accuracy: 0.8244\n",
            "Epoch 21/200\n",
            "712/712 [==============================] - 1s 912us/sample - loss: 0.4343 - binary_accuracy: 0.8287\n",
            "Epoch 22/200\n",
            "712/712 [==============================] - 1s 895us/sample - loss: 0.4101 - binary_accuracy: 0.8385\n",
            "Epoch 23/200\n",
            "712/712 [==============================] - 1s 932us/sample - loss: 0.4150 - binary_accuracy: 0.8329\n",
            "Epoch 24/200\n",
            "712/712 [==============================] - 1s 916us/sample - loss: 0.4067 - binary_accuracy: 0.8357\n",
            "Epoch 25/200\n",
            "712/712 [==============================] - 1s 897us/sample - loss: 0.4097 - binary_accuracy: 0.8371\n",
            "Epoch 26/200\n",
            "712/712 [==============================] - 1s 909us/sample - loss: 0.4520 - binary_accuracy: 0.8104\n",
            "Epoch 27/200\n",
            "712/712 [==============================] - 1s 912us/sample - loss: 0.3962 - binary_accuracy: 0.8371\n",
            "Epoch 28/200\n",
            "712/712 [==============================] - 1s 889us/sample - loss: 0.3848 - binary_accuracy: 0.8343\n",
            "Epoch 29/200\n",
            "712/712 [==============================] - 1s 926us/sample - loss: 0.3992 - binary_accuracy: 0.8343\n",
            "Epoch 30/200\n",
            "712/712 [==============================] - 1s 939us/sample - loss: 0.3843 - binary_accuracy: 0.8497\n",
            "Epoch 31/200\n",
            "712/712 [==============================] - 1s 927us/sample - loss: 0.4178 - binary_accuracy: 0.8188\n",
            "Epoch 32/200\n",
            "712/712 [==============================] - 1s 889us/sample - loss: 0.4008 - binary_accuracy: 0.8315\n",
            "Epoch 33/200\n",
            "712/712 [==============================] - 1s 944us/sample - loss: 0.4037 - binary_accuracy: 0.8357\n",
            "Epoch 34/200\n",
            "712/712 [==============================] - 1s 915us/sample - loss: 0.3684 - binary_accuracy: 0.8413\n",
            "Epoch 35/200\n",
            "712/712 [==============================] - 1s 928us/sample - loss: 0.3908 - binary_accuracy: 0.8413\n",
            "Epoch 36/200\n",
            "712/712 [==============================] - 1s 931us/sample - loss: 0.3788 - binary_accuracy: 0.8413\n",
            "Epoch 37/200\n",
            "712/712 [==============================] - 1s 917us/sample - loss: 0.3893 - binary_accuracy: 0.8385\n",
            "Epoch 38/200\n",
            "712/712 [==============================] - 1s 896us/sample - loss: 0.3687 - binary_accuracy: 0.8497\n",
            "Epoch 39/200\n",
            "712/712 [==============================] - 1s 887us/sample - loss: 0.3740 - binary_accuracy: 0.8483\n",
            "Epoch 40/200\n",
            "712/712 [==============================] - 1s 881us/sample - loss: 0.4050 - binary_accuracy: 0.8511\n",
            "Epoch 41/200\n",
            "712/712 [==============================] - 1s 923us/sample - loss: 0.3890 - binary_accuracy: 0.8469\n",
            "Epoch 42/200\n",
            "712/712 [==============================] - 1s 885us/sample - loss: 0.3617 - binary_accuracy: 0.8427\n",
            "Epoch 43/200\n",
            "712/712 [==============================] - 1s 910us/sample - loss: 0.3419 - binary_accuracy: 0.8666\n",
            "Epoch 44/200\n",
            "712/712 [==============================] - 1s 924us/sample - loss: 0.3472 - binary_accuracy: 0.8567\n",
            "Epoch 45/200\n",
            "712/712 [==============================] - 1s 902us/sample - loss: 0.3646 - binary_accuracy: 0.8652\n",
            "Epoch 46/200\n",
            "712/712 [==============================] - 1s 928us/sample - loss: 0.3513 - binary_accuracy: 0.8553\n",
            "Epoch 47/200\n",
            "712/712 [==============================] - 1s 908us/sample - loss: 0.3440 - binary_accuracy: 0.8511\n",
            "Epoch 48/200\n",
            "712/712 [==============================] - 1s 933us/sample - loss: 0.3452 - binary_accuracy: 0.8652\n",
            "Epoch 49/200\n",
            "712/712 [==============================] - 1s 932us/sample - loss: 0.3638 - binary_accuracy: 0.8539\n",
            "Epoch 50/200\n",
            "712/712 [==============================] - 1s 900us/sample - loss: 0.3641 - binary_accuracy: 0.8581\n",
            "Epoch 51/200\n",
            "712/712 [==============================] - 1s 910us/sample - loss: 0.3380 - binary_accuracy: 0.8469\n",
            "Epoch 52/200\n",
            "712/712 [==============================] - 1s 880us/sample - loss: 0.4068 - binary_accuracy: 0.8511\n",
            "Epoch 53/200\n",
            "712/712 [==============================] - 1s 911us/sample - loss: 0.3491 - binary_accuracy: 0.8638\n",
            "Epoch 54/200\n",
            "712/712 [==============================] - 1s 939us/sample - loss: 0.3839 - binary_accuracy: 0.8399\n",
            "Epoch 55/200\n",
            "712/712 [==============================] - 1s 927us/sample - loss: 0.3401 - binary_accuracy: 0.8581\n",
            "Epoch 56/200\n",
            "712/712 [==============================] - 1s 925us/sample - loss: 0.3358 - binary_accuracy: 0.8708\n",
            "Epoch 57/200\n",
            "712/712 [==============================] - 1s 886us/sample - loss: 0.3786 - binary_accuracy: 0.8497\n",
            "Epoch 58/200\n",
            "712/712 [==============================] - 1s 881us/sample - loss: 0.3464 - binary_accuracy: 0.8581\n",
            "Epoch 59/200\n",
            "712/712 [==============================] - 1s 867us/sample - loss: 0.3255 - binary_accuracy: 0.8652\n",
            "Epoch 60/200\n",
            "712/712 [==============================] - 1s 905us/sample - loss: 0.3466 - binary_accuracy: 0.8525\n",
            "Epoch 61/200\n",
            "712/712 [==============================] - 1s 933us/sample - loss: 0.3448 - binary_accuracy: 0.8708\n",
            "Epoch 62/200\n",
            "712/712 [==============================] - 1s 920us/sample - loss: 0.3438 - binary_accuracy: 0.8638\n",
            "Epoch 63/200\n",
            "712/712 [==============================] - 1s 920us/sample - loss: 0.3505 - binary_accuracy: 0.8525\n",
            "Epoch 64/200\n",
            "712/712 [==============================] - 1s 925us/sample - loss: 0.3263 - binary_accuracy: 0.8666\n",
            "Epoch 65/200\n",
            "712/712 [==============================] - 1s 933us/sample - loss: 0.3531 - binary_accuracy: 0.8483\n",
            "Epoch 66/200\n",
            "712/712 [==============================] - 1s 909us/sample - loss: 0.3343 - binary_accuracy: 0.8680\n",
            "Epoch 67/200\n",
            "712/712 [==============================] - 1s 916us/sample - loss: 0.3228 - binary_accuracy: 0.8764\n",
            "Epoch 68/200\n",
            "712/712 [==============================] - 1s 898us/sample - loss: 0.3231 - binary_accuracy: 0.8539\n",
            "Epoch 69/200\n",
            "712/712 [==============================] - 1s 888us/sample - loss: 0.3077 - binary_accuracy: 0.8778\n",
            "Epoch 70/200\n",
            "712/712 [==============================] - 1s 905us/sample - loss: 0.3053 - binary_accuracy: 0.8736\n",
            "Epoch 71/200\n",
            "712/712 [==============================] - 1s 907us/sample - loss: 0.3244 - binary_accuracy: 0.8736\n",
            "Epoch 72/200\n",
            "712/712 [==============================] - 1s 888us/sample - loss: 0.3506 - binary_accuracy: 0.8736\n",
            "Epoch 73/200\n",
            "712/712 [==============================] - 1s 874us/sample - loss: 0.3693 - binary_accuracy: 0.8567\n",
            "Epoch 74/200\n",
            "712/712 [==============================] - 1s 912us/sample - loss: 0.3516 - binary_accuracy: 0.8525\n",
            "Epoch 75/200\n",
            "712/712 [==============================] - 1s 903us/sample - loss: 0.3274 - binary_accuracy: 0.8708\n",
            "Epoch 76/200\n",
            "712/712 [==============================] - 1s 902us/sample - loss: 0.3524 - binary_accuracy: 0.8624\n",
            "Epoch 77/200\n",
            "712/712 [==============================] - 1s 909us/sample - loss: 0.3359 - binary_accuracy: 0.8567\n",
            "Epoch 78/200\n",
            "712/712 [==============================] - 1s 924us/sample - loss: 0.3187 - binary_accuracy: 0.8708\n",
            "Epoch 79/200\n",
            "712/712 [==============================] - 1s 924us/sample - loss: 0.3310 - binary_accuracy: 0.8567\n",
            "Epoch 80/200\n",
            "712/712 [==============================] - 1s 867us/sample - loss: 0.3333 - binary_accuracy: 0.8666\n",
            "Epoch 81/200\n",
            "712/712 [==============================] - 1s 903us/sample - loss: 0.3401 - binary_accuracy: 0.8708\n",
            "Epoch 82/200\n",
            "712/712 [==============================] - 1s 890us/sample - loss: 0.3100 - binary_accuracy: 0.8736\n",
            "Epoch 83/200\n",
            "712/712 [==============================] - 1s 904us/sample - loss: 0.2995 - binary_accuracy: 0.8736\n",
            "Epoch 84/200\n",
            "712/712 [==============================] - 1s 914us/sample - loss: 0.3188 - binary_accuracy: 0.8708\n",
            "Epoch 85/200\n",
            "712/712 [==============================] - 1s 907us/sample - loss: 0.3165 - binary_accuracy: 0.8778\n",
            "Epoch 86/200\n",
            "712/712 [==============================] - 1s 871us/sample - loss: 0.3153 - binary_accuracy: 0.8511\n",
            "Epoch 87/200\n",
            "712/712 [==============================] - 1s 892us/sample - loss: 0.3174 - binary_accuracy: 0.8652\n",
            "Epoch 88/200\n",
            "712/712 [==============================] - 1s 888us/sample - loss: 0.3136 - binary_accuracy: 0.8764\n",
            "Epoch 89/200\n",
            "712/712 [==============================] - 1s 919us/sample - loss: 0.3160 - binary_accuracy: 0.8624\n",
            "Epoch 90/200\n",
            "712/712 [==============================] - 1s 914us/sample - loss: 0.3236 - binary_accuracy: 0.8708\n",
            "Epoch 91/200\n",
            "712/712 [==============================] - 1s 908us/sample - loss: 0.3165 - binary_accuracy: 0.8778\n",
            "Epoch 92/200\n",
            "712/712 [==============================] - 1s 911us/sample - loss: 0.3080 - binary_accuracy: 0.8764\n",
            "Epoch 93/200\n",
            "712/712 [==============================] - 1s 913us/sample - loss: 0.2980 - binary_accuracy: 0.8820\n",
            "Epoch 94/200\n",
            "712/712 [==============================] - 1s 906us/sample - loss: 0.3210 - binary_accuracy: 0.8581\n",
            "Epoch 95/200\n",
            "712/712 [==============================] - 1s 917us/sample - loss: 0.2945 - binary_accuracy: 0.8722\n",
            "Epoch 96/200\n",
            "712/712 [==============================] - 1s 934us/sample - loss: 0.2817 - binary_accuracy: 0.8708\n",
            "Epoch 97/200\n",
            "712/712 [==============================] - 1s 959us/sample - loss: 0.2979 - binary_accuracy: 0.8750\n",
            "Epoch 98/200\n",
            "712/712 [==============================] - 1s 909us/sample - loss: 0.3099 - binary_accuracy: 0.8736\n",
            "Epoch 99/200\n",
            "712/712 [==============================] - 1s 932us/sample - loss: 0.3226 - binary_accuracy: 0.8708\n",
            "Epoch 100/200\n",
            "712/712 [==============================] - 1s 942us/sample - loss: 0.3247 - binary_accuracy: 0.8680\n",
            "Epoch 101/200\n",
            "712/712 [==============================] - 1s 918us/sample - loss: 0.3045 - binary_accuracy: 0.8736\n",
            "Epoch 102/200\n",
            "712/712 [==============================] - 1s 917us/sample - loss: 0.2969 - binary_accuracy: 0.8778\n",
            "Epoch 103/200\n",
            "712/712 [==============================] - 1s 923us/sample - loss: 0.3018 - binary_accuracy: 0.8736\n",
            "Epoch 104/200\n",
            "712/712 [==============================] - 1s 898us/sample - loss: 0.2903 - binary_accuracy: 0.8806\n",
            "Epoch 105/200\n",
            "712/712 [==============================] - 1s 918us/sample - loss: 0.2775 - binary_accuracy: 0.8750\n",
            "Epoch 106/200\n",
            "712/712 [==============================] - 1s 896us/sample - loss: 0.2958 - binary_accuracy: 0.8820\n",
            "Epoch 107/200\n",
            "712/712 [==============================] - 1s 868us/sample - loss: 0.2933 - binary_accuracy: 0.8792\n",
            "Epoch 108/200\n",
            "712/712 [==============================] - 1s 903us/sample - loss: 0.2996 - binary_accuracy: 0.8750\n",
            "Epoch 109/200\n",
            "712/712 [==============================] - 1s 876us/sample - loss: 0.2885 - binary_accuracy: 0.8750\n",
            "Epoch 110/200\n",
            "712/712 [==============================] - 1s 908us/sample - loss: 0.3056 - binary_accuracy: 0.8764\n",
            "Epoch 111/200\n",
            "712/712 [==============================] - 1s 941us/sample - loss: 0.2820 - binary_accuracy: 0.8862\n",
            "Epoch 112/200\n",
            "712/712 [==============================] - 1s 937us/sample - loss: 0.3614 - binary_accuracy: 0.8624\n",
            "Epoch 113/200\n",
            "712/712 [==============================] - 1s 917us/sample - loss: 0.3065 - binary_accuracy: 0.8624\n",
            "Epoch 114/200\n",
            "712/712 [==============================] - 1s 894us/sample - loss: 0.3125 - binary_accuracy: 0.8848\n",
            "Epoch 115/200\n",
            "712/712 [==============================] - 1s 899us/sample - loss: 0.3458 - binary_accuracy: 0.8553\n",
            "Epoch 116/200\n",
            "712/712 [==============================] - 1s 925us/sample - loss: 0.3202 - binary_accuracy: 0.8666\n",
            "Epoch 117/200\n",
            "712/712 [==============================] - 1s 911us/sample - loss: 0.3044 - binary_accuracy: 0.8848\n",
            "Epoch 118/200\n",
            "712/712 [==============================] - 1s 915us/sample - loss: 0.3017 - binary_accuracy: 0.8680\n",
            "Epoch 119/200\n",
            "712/712 [==============================] - 1s 896us/sample - loss: 0.2903 - binary_accuracy: 0.8862\n",
            "Epoch 120/200\n",
            "712/712 [==============================] - 1s 941us/sample - loss: 0.3108 - binary_accuracy: 0.8596\n",
            "Epoch 121/200\n",
            "712/712 [==============================] - 1s 916us/sample - loss: 0.2997 - binary_accuracy: 0.8708\n",
            "Epoch 122/200\n",
            "712/712 [==============================] - 1s 899us/sample - loss: 0.2817 - binary_accuracy: 0.8750\n",
            "Epoch 123/200\n",
            "712/712 [==============================] - 1s 880us/sample - loss: 0.3573 - binary_accuracy: 0.8469\n",
            "Epoch 124/200\n",
            "712/712 [==============================] - 1s 864us/sample - loss: 0.3174 - binary_accuracy: 0.8680\n",
            "Epoch 125/200\n",
            "712/712 [==============================] - 1s 900us/sample - loss: 0.3036 - binary_accuracy: 0.8666\n",
            "Epoch 126/200\n",
            "712/712 [==============================] - 1s 919us/sample - loss: 0.2935 - binary_accuracy: 0.8820\n",
            "Epoch 127/200\n",
            "712/712 [==============================] - 1s 891us/sample - loss: 0.2784 - binary_accuracy: 0.8764\n",
            "Epoch 128/200\n",
            "712/712 [==============================] - 1s 905us/sample - loss: 0.2799 - binary_accuracy: 0.8820\n",
            "Epoch 129/200\n",
            "712/712 [==============================] - 1s 931us/sample - loss: 0.3109 - binary_accuracy: 0.8806\n",
            "Epoch 130/200\n",
            "712/712 [==============================] - 1s 894us/sample - loss: 0.2691 - binary_accuracy: 0.8862\n",
            "Epoch 131/200\n",
            "712/712 [==============================] - 1s 884us/sample - loss: 0.2688 - binary_accuracy: 0.8848\n",
            "Epoch 132/200\n",
            "712/712 [==============================] - 1s 887us/sample - loss: 0.3001 - binary_accuracy: 0.8764\n",
            "Epoch 133/200\n",
            "712/712 [==============================] - 1s 904us/sample - loss: 0.2961 - binary_accuracy: 0.8638\n",
            "Epoch 134/200\n",
            "712/712 [==============================] - 1s 899us/sample - loss: 0.3286 - binary_accuracy: 0.8610\n",
            "Epoch 135/200\n",
            "712/712 [==============================] - 1s 899us/sample - loss: 0.2898 - binary_accuracy: 0.8820\n",
            "Epoch 136/200\n",
            "712/712 [==============================] - 1s 917us/sample - loss: 0.3059 - binary_accuracy: 0.8694\n",
            "Epoch 137/200\n",
            "712/712 [==============================] - 1s 900us/sample - loss: 0.2922 - binary_accuracy: 0.8638\n",
            "Epoch 138/200\n",
            "712/712 [==============================] - 1s 914us/sample - loss: 0.2928 - binary_accuracy: 0.8722\n",
            "Epoch 139/200\n",
            "712/712 [==============================] - 1s 867us/sample - loss: 0.3073 - binary_accuracy: 0.8638\n",
            "Epoch 140/200\n",
            "712/712 [==============================] - 1s 927us/sample - loss: 0.3090 - binary_accuracy: 0.8427\n",
            "Epoch 141/200\n",
            "712/712 [==============================] - 1s 941us/sample - loss: 0.2691 - binary_accuracy: 0.8736\n",
            "Epoch 142/200\n",
            "712/712 [==============================] - 1s 887us/sample - loss: 0.2971 - binary_accuracy: 0.8708\n",
            "Epoch 143/200\n",
            "712/712 [==============================] - 1s 881us/sample - loss: 0.2879 - binary_accuracy: 0.8834\n",
            "Epoch 144/200\n",
            "712/712 [==============================] - 1s 942us/sample - loss: 0.2912 - binary_accuracy: 0.8694\n",
            "Epoch 145/200\n",
            "712/712 [==============================] - 1s 905us/sample - loss: 0.2918 - binary_accuracy: 0.8820\n",
            "Epoch 146/200\n",
            "712/712 [==============================] - 1s 890us/sample - loss: 0.2755 - binary_accuracy: 0.8764\n",
            "Epoch 147/200\n",
            "712/712 [==============================] - 1s 929us/sample - loss: 0.2546 - binary_accuracy: 0.8961\n",
            "Epoch 148/200\n",
            "712/712 [==============================] - 1s 928us/sample - loss: 0.2710 - binary_accuracy: 0.8778\n",
            "Epoch 149/200\n",
            "712/712 [==============================] - 1s 888us/sample - loss: 0.2743 - binary_accuracy: 0.8933\n",
            "Epoch 150/200\n",
            "712/712 [==============================] - 1s 860us/sample - loss: 0.2794 - binary_accuracy: 0.8834\n",
            "Epoch 151/200\n",
            "712/712 [==============================] - 1s 884us/sample - loss: 0.2737 - binary_accuracy: 0.8764\n",
            "Epoch 152/200\n",
            "712/712 [==============================] - 1s 849us/sample - loss: 0.2667 - binary_accuracy: 0.8904\n",
            "Epoch 153/200\n",
            "712/712 [==============================] - 1s 907us/sample - loss: 0.2724 - binary_accuracy: 0.8876\n",
            "Epoch 154/200\n",
            "712/712 [==============================] - 1s 921us/sample - loss: 0.2682 - binary_accuracy: 0.8961\n",
            "Epoch 155/200\n",
            "712/712 [==============================] - 1s 906us/sample - loss: 0.3225 - binary_accuracy: 0.8806\n",
            "Epoch 156/200\n",
            "712/712 [==============================] - 1s 905us/sample - loss: 0.2796 - binary_accuracy: 0.8792\n",
            "Epoch 157/200\n",
            "712/712 [==============================] - 1s 897us/sample - loss: 0.2953 - binary_accuracy: 0.8764\n",
            "Epoch 158/200\n",
            "712/712 [==============================] - 1s 904us/sample - loss: 0.2651 - binary_accuracy: 0.8820\n",
            "Epoch 159/200\n",
            "712/712 [==============================] - 1s 889us/sample - loss: 0.3342 - binary_accuracy: 0.8778\n",
            "Epoch 160/200\n",
            "712/712 [==============================] - 1s 914us/sample - loss: 0.3129 - binary_accuracy: 0.8736\n",
            "Epoch 161/200\n",
            "712/712 [==============================] - 1s 923us/sample - loss: 0.2645 - binary_accuracy: 0.8904\n",
            "Epoch 162/200\n",
            "712/712 [==============================] - 1s 882us/sample - loss: 0.2738 - binary_accuracy: 0.8862\n",
            "Epoch 163/200\n",
            "712/712 [==============================] - 1s 874us/sample - loss: 0.2875 - binary_accuracy: 0.8820\n",
            "Epoch 164/200\n",
            "712/712 [==============================] - 1s 863us/sample - loss: 0.2842 - binary_accuracy: 0.8919\n",
            "Epoch 165/200\n",
            "712/712 [==============================] - 1s 833us/sample - loss: 0.2527 - binary_accuracy: 0.8933\n",
            "Epoch 166/200\n",
            "712/712 [==============================] - 1s 877us/sample - loss: 0.2884 - binary_accuracy: 0.8778\n",
            "Epoch 167/200\n",
            "712/712 [==============================] - 1s 903us/sample - loss: 0.2777 - binary_accuracy: 0.8722\n",
            "Epoch 168/200\n",
            "712/712 [==============================] - 1s 867us/sample - loss: 0.2858 - binary_accuracy: 0.8722\n",
            "Epoch 169/200\n",
            "712/712 [==============================] - 1s 885us/sample - loss: 0.2712 - binary_accuracy: 0.8933\n",
            "Epoch 170/200\n",
            "712/712 [==============================] - 1s 873us/sample - loss: 0.2588 - binary_accuracy: 0.8876\n",
            "Epoch 171/200\n",
            "712/712 [==============================] - 1s 885us/sample - loss: 0.2641 - binary_accuracy: 0.8989\n",
            "Epoch 172/200\n",
            "712/712 [==============================] - 1s 871us/sample - loss: 0.2814 - binary_accuracy: 0.8792\n",
            "Epoch 173/200\n",
            "712/712 [==============================] - 1s 871us/sample - loss: 0.2851 - binary_accuracy: 0.8736\n",
            "Epoch 174/200\n",
            "712/712 [==============================] - 1s 880us/sample - loss: 0.2637 - binary_accuracy: 0.8919\n",
            "Epoch 175/200\n",
            "712/712 [==============================] - 1s 863us/sample - loss: 0.2589 - binary_accuracy: 0.8904\n",
            "Epoch 176/200\n",
            "712/712 [==============================] - 1s 882us/sample - loss: 0.2682 - binary_accuracy: 0.8862\n",
            "Epoch 177/200\n",
            "712/712 [==============================] - 1s 929us/sample - loss: 0.3525 - binary_accuracy: 0.8919\n",
            "Epoch 178/200\n",
            "712/712 [==============================] - 1s 860us/sample - loss: 0.3202 - binary_accuracy: 0.8680\n",
            "Epoch 179/200\n",
            "712/712 [==============================] - 1s 865us/sample - loss: 0.2938 - binary_accuracy: 0.8806\n",
            "Epoch 180/200\n",
            "712/712 [==============================] - 1s 932us/sample - loss: 0.2672 - binary_accuracy: 0.8876\n",
            "Epoch 181/200\n",
            "712/712 [==============================] - 1s 902us/sample - loss: 0.2618 - binary_accuracy: 0.8961\n",
            "Epoch 182/200\n",
            "712/712 [==============================] - 1s 937us/sample - loss: 0.2844 - binary_accuracy: 0.8722\n",
            "Epoch 183/200\n",
            "712/712 [==============================] - 1s 918us/sample - loss: 0.3024 - binary_accuracy: 0.8638\n",
            "Epoch 184/200\n",
            "712/712 [==============================] - 1s 925us/sample - loss: 0.2840 - binary_accuracy: 0.8862\n",
            "Epoch 185/200\n",
            "712/712 [==============================] - 1s 960us/sample - loss: 0.2845 - binary_accuracy: 0.8778\n",
            "Epoch 186/200\n",
            "712/712 [==============================] - 1s 916us/sample - loss: 0.2714 - binary_accuracy: 0.8820\n",
            "Epoch 187/200\n",
            "712/712 [==============================] - 1s 893us/sample - loss: 0.2686 - binary_accuracy: 0.8947\n",
            "Epoch 188/200\n",
            "712/712 [==============================] - 1s 946us/sample - loss: 0.2763 - binary_accuracy: 0.8890\n",
            "Epoch 189/200\n",
            "712/712 [==============================] - 1s 894us/sample - loss: 0.2634 - binary_accuracy: 0.8834\n",
            "Epoch 190/200\n",
            "712/712 [==============================] - 1s 905us/sample - loss: 0.2555 - binary_accuracy: 0.8904\n",
            "Epoch 191/200\n",
            "712/712 [==============================] - 1s 934us/sample - loss: 0.2594 - binary_accuracy: 0.8820\n",
            "Epoch 192/200\n",
            "712/712 [==============================] - 1s 911us/sample - loss: 0.2748 - binary_accuracy: 0.8694\n",
            "Epoch 193/200\n",
            "712/712 [==============================] - 1s 946us/sample - loss: 0.2512 - binary_accuracy: 0.8933\n",
            "Epoch 194/200\n",
            "712/712 [==============================] - 1s 917us/sample - loss: 0.2590 - binary_accuracy: 0.8975\n",
            "Epoch 195/200\n",
            "712/712 [==============================] - 1s 932us/sample - loss: 0.2849 - binary_accuracy: 0.8792\n",
            "Epoch 196/200\n",
            "712/712 [==============================] - 1s 897us/sample - loss: 0.2966 - binary_accuracy: 0.8722\n",
            "Epoch 197/200\n",
            "712/712 [==============================] - 1s 909us/sample - loss: 0.2821 - binary_accuracy: 0.8792\n",
            "Epoch 198/200\n",
            "712/712 [==============================] - 1s 928us/sample - loss: 0.2724 - binary_accuracy: 0.8722\n",
            "Epoch 199/200\n",
            "712/712 [==============================] - 1s 872us/sample - loss: 0.2655 - binary_accuracy: 0.8919\n",
            "Epoch 200/200\n",
            "712/712 [==============================] - 1s 866us/sample - loss: 0.2563 - binary_accuracy: 0.8876\n"
          ],
          "name": "stdout"
        },
        {
          "output_type": "execute_result",
          "data": {
            "text/plain": [
              "<tensorflow.python.keras.callbacks.History at 0x7f5794e009b0>"
            ]
          },
          "metadata": {
            "tags": []
          },
          "execution_count": 963
        }
      ]
    },
    {
      "cell_type": "markdown",
      "metadata": {
        "id": "y9YdTY35Ihh2",
        "colab_type": "text"
      },
      "source": [
        "Here we are fitting the algorithm with our independant variables(X_train) and our dependant variable(y_train). The batch size indicates after what batch size the algorithm will calculate error function,backpropagate it and change the weights. Epochs is the number of times the algorithm will go through the dataset.Shuffle sometimes is important in order algorithm not be biased. Verbose is just a visual help during training"
      ]
    },
    {
      "cell_type": "code",
      "metadata": {
        "id": "h8cFZJorMiwa",
        "colab_type": "code",
        "colab": {}
      },
      "source": [
        "y_pred = model.predict(X_test) #Predicting the test set"
      ],
      "execution_count": 0,
      "outputs": []
    },
    {
      "cell_type": "code",
      "metadata": {
        "id": "uwN40PTPxnsV",
        "colab_type": "code",
        "colab": {}
      },
      "source": [
        "y_pred_real = []\n",
        "for i in y_pred:\n",
        "  if i > 0.5:\n",
        "    i = 1\n",
        "    y_pred_real.append(i)\n",
        "  else:\n",
        "    i = 0\n",
        "    y_pred_real.append(i)"
      ],
      "execution_count": 0,
      "outputs": []
    },
    {
      "cell_type": "markdown",
      "metadata": {
        "id": "9Et1UOZjJXxV",
        "colab_type": "text"
      },
      "source": [
        "As I mentioned earlier,our last layer has sigmoid function which squashes the output between 0 and 1. We need either of them. So I made a small for loop to deal with this problem, if value of the prediction is higher from 0.5, then make it 1,otherwise make it 0"
      ]
    },
    {
      "cell_type": "code",
      "metadata": {
        "id": "n7saW-Mn0lAO",
        "colab_type": "code",
        "colab": {}
      },
      "source": [
        "from sklearn.metrics import confusion_matrix #Importing the confusion_matrix"
      ],
      "execution_count": 0,
      "outputs": []
    },
    {
      "cell_type": "code",
      "metadata": {
        "id": "_ROTqE2w08PE",
        "colab_type": "code",
        "outputId": "28daf3fa-2445-4124-f579-c02f6995e054",
        "colab": {
          "base_uri": "https://localhost:8080/",
          "height": 50
        }
      },
      "source": [
        "cm = confusion_matrix(y_test,y_pred_real)\n",
        "cm"
      ],
      "execution_count": 0,
      "outputs": [
        {
          "output_type": "execute_result",
          "data": {
            "text/plain": [
              "array([[104,  14],\n",
              "       [ 17,  44]])"
            ]
          },
          "metadata": {
            "tags": []
          },
          "execution_count": 969
        }
      ]
    },
    {
      "cell_type": "code",
      "metadata": {
        "id": "7_dEEMl4LCZ3",
        "colab_type": "code",
        "colab": {}
      },
      "source": [
        "true_predictions = cm[0][0] + cm[1][1]\n",
        "false_predictions = cm[0][1] + cm[1][0]\n",
        "total = true_predictions + false_predictions"
      ],
      "execution_count": 0,
      "outputs": []
    },
    {
      "cell_type": "code",
      "metadata": {
        "id": "ymznJ_AsLOZt",
        "colab_type": "code",
        "outputId": "f4c89498-c8d4-4339-e999-0f92b970b011",
        "colab": {
          "base_uri": "https://localhost:8080/",
          "height": 34
        }
      },
      "source": [
        "true_predictions/total"
      ],
      "execution_count": 0,
      "outputs": [
        {
          "output_type": "execute_result",
          "data": {
            "text/plain": [
              "0.8268156424581006"
            ]
          },
          "metadata": {
            "tags": []
          },
          "execution_count": 973
        }
      ]
    },
    {
      "cell_type": "markdown",
      "metadata": {
        "id": "CrEapeyYL6iC",
        "colab_type": "text"
      },
      "source": [
        "Importing the confusion matrix. As we can see, 104 + 44 are classified as true, and 17+14 are classified as false. In the next code cell I just add them together to calculate the percentage of right/total. It is 82 percent. It is a very good model,not overfit and not underfit. Like all algorithms it could be tweaked more, but it will cost computational time. We could add layers and so on. But I am happy with the result."
      ]
    }
  ]
}