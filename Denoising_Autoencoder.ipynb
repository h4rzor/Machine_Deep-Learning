{
  "nbformat": 4,
  "nbformat_minor": 0,
  "metadata": {
    "colab": {
      "name": "Denoising Autoencoder",
      "provenance": []
    },
    "kernelspec": {
      "name": "python3",
      "display_name": "Python 3"
    }
  },
  "cells": [
    {
      "cell_type": "code",
      "metadata": {
        "id": "uh8Abo6Vtg0G",
        "colab_type": "code",
        "colab": {}
      },
      "source": [
        "import tensorflow\n",
        "import numpy as np\n",
        "from keras.layers import Dense,Input\n",
        "from keras.models import Model\n",
        "from keras.datasets import mnist \n",
        "import matplotlib.pyplot as plt \n",
        "%matplotlib inline\n",
        "#Importing the necessary libraries"
      ],
      "execution_count": 0,
      "outputs": []
    },
    {
      "cell_type": "code",
      "metadata": {
        "id": "aq-iICrNtyZW",
        "colab_type": "code",
        "colab": {
          "base_uri": "https://localhost:8080/",
          "height": 50
        },
        "outputId": "4a35aacf-fdb8-4a20-efe2-3524fa66cfd4"
      },
      "source": [
        "(X_train,_),(X_test,_) = mnist.load_data() #Loading the data"
      ],
      "execution_count": 3,
      "outputs": [
        {
          "output_type": "stream",
          "text": [
            "Downloading data from https://s3.amazonaws.com/img-datasets/mnist.npz\n",
            "11493376/11490434 [==============================] - 0s 0us/step\n"
          ],
          "name": "stdout"
        }
      ]
    },
    {
      "cell_type": "code",
      "metadata": {
        "id": "HtfX1ftavwbP",
        "colab_type": "code",
        "colab": {}
      },
      "source": [
        "X_train = X_train.astype('float32')/255"
      ],
      "execution_count": 0,
      "outputs": []
    },
    {
      "cell_type": "code",
      "metadata": {
        "id": "OIXUMytiv1a0",
        "colab_type": "code",
        "colab": {}
      },
      "source": [
        "X_test = X_test.astype('float32')/255"
      ],
      "execution_count": 0,
      "outputs": []
    },
    {
      "cell_type": "markdown",
      "metadata": {
        "id": "Bumbqui_kU8Y",
        "colab_type": "text"
      },
      "source": [
        "Before this operation the type of the images was int and it was not scaled. These two lines of code act like a standard scaler and scales the values such that the algorithm can converge faster and successfully."
      ]
    },
    {
      "cell_type": "code",
      "metadata": {
        "id": "NEviN3jcv49N",
        "colab_type": "code",
        "colab": {}
      },
      "source": [
        "X_train = X_train.reshape(len(X_train),(np.prod(X_train.shape[1:])))"
      ],
      "execution_count": 0,
      "outputs": []
    },
    {
      "cell_type": "code",
      "metadata": {
        "id": "Q6nPuBrLwJIb",
        "colab_type": "code",
        "colab": {}
      },
      "source": [
        "X_test = X_test.reshape(len(X_test),(np.prod(X_test.shape[1:])))"
      ],
      "execution_count": 0,
      "outputs": []
    },
    {
      "cell_type": "markdown",
      "metadata": {
        "id": "kREJPI0nkrlF",
        "colab_type": "text"
      },
      "source": [
        "The input of the model must not be a 3 dimensional array, it must be 1 dimension. And this dimension corresponds to the 28 times 28 pixels we have in these images. So...28 * 28 = 784 pixels in total in one image. As I mentioned before, the input \"layer\" can not take a 2 or 3 dimensional array, and what array does our real values has? It has 784 values. And we make sure that this is what we give to the input layer. the np.prod is just a function that returns the product of X_test.shape[1:]] and all X_test.shape[1:] is 28 times 28 = 784."
      ]
    },
    {
      "cell_type": "code",
      "metadata": {
        "id": "neU_zfc0wPRw",
        "colab_type": "code",
        "colab": {}
      },
      "source": [
        "X_train_noisy = X_train + np.random.normal(loc=0.0,scale=0.5,size=X_train.shape)"
      ],
      "execution_count": 0,
      "outputs": []
    },
    {
      "cell_type": "code",
      "metadata": {
        "id": "KwC2LHcJwiC3",
        "colab_type": "code",
        "colab": {}
      },
      "source": [
        "X_test_noisy = X_test + np.random.normal(loc=0.0,scale=0.5,size=X_test.shape)"
      ],
      "execution_count": 0,
      "outputs": []
    },
    {
      "cell_type": "markdown",
      "metadata": {
        "id": "P1tPhx6Ul1Hs",
        "colab_type": "text"
      },
      "source": [
        "This is the Denoising part of the code. Here we can keep the X_train without the noise to be tested later, does not matter. The np.random.normal takes these arguments - loc which is the mean of the distribution,the scale of the distribution, we could play with it after the training. And the size must be equal to the output shape of the function in this case X_train."
      ]
    },
    {
      "cell_type": "code",
      "metadata": {
        "id": "RQJF8_0Fwom8",
        "colab_type": "code",
        "colab": {
          "base_uri": "https://localhost:8080/",
          "height": 34
        },
        "outputId": "af2e31b6-4805-4e37-da6f-fe498ba01612"
      },
      "source": [
        "shape = X_train_noisy.shape\n",
        "shape\n",
        "#The shape fo the array we just created."
      ],
      "execution_count": 64,
      "outputs": [
        {
          "output_type": "execute_result",
          "data": {
            "text/plain": [
              "(60000, 784)"
            ]
          },
          "metadata": {
            "tags": []
          },
          "execution_count": 64
        }
      ]
    },
    {
      "cell_type": "code",
      "metadata": {
        "id": "Kx3lGdaEwtpb",
        "colab_type": "code",
        "colab": {}
      },
      "source": [
        ""
      ],
      "execution_count": 0,
      "outputs": []
    },
    {
      "cell_type": "code",
      "metadata": {
        "id": "cyYTzv2zw31m",
        "colab_type": "code",
        "colab": {}
      },
      "source": [
        "input_img = Input(shape=(shape,))\n",
        "encoder = Dense(units=128,activation='relu')(input_img)\n",
        "encoder = Dense(units=64,activation='relu')(encoder)\n",
        "encoder = Dense(units=32,activation='relu')(encoder)\n",
        "decoder = Dense(units=64,activation='relu')(encoder)\n",
        "decoder = Dense(units=128,activation='relu')(decoder)\n",
        "decoder = Dense(units=784,activation='sigmoid')(decoder)"
      ],
      "execution_count": 0,
      "outputs": []
    },
    {
      "cell_type": "markdown",
      "metadata": {
        "id": "naeN3xfHnJxS",
        "colab_type": "text"
      },
      "source": [
        "Here it is the autoencoder model. All it does is it is trying to recreate the input we just gave it.In our case we had a layer of 784 inputs which are all the pixels the image has.Unlike the dense layers with the traditional ANN, the autoencoder tries to encode the information to a smaller dimension and tries to understand the underlying logic behind multidimensional data. This is the decoding part, but however the autoencoder consist of two parts, encoder and decoder. The decoder after the encoder encoded the input features, then tries to recreate the original input we fed it with.\n",
        "As you can see the first layer is the input layer, in which we just specify the shape of the array - in our case it is 784.\n",
        "After this operation we have the traditional dense layers where the most frequent activation is relu. \n",
        "The brackets after the Dense layers are just a syntax, specifying which layer was the last one, and to which to perform the operations afterwards. As you can see the units in the layers get smaller and smaller as we approach the \"middle\" of the architecture of the autoencoder. This is the encoder. \n",
        "After this, the decoder takes place and the units are seemingly increasing until the last layer is equal to the original input. The sigmoid is put there for performance."
      ]
    },
    {
      "cell_type": "code",
      "metadata": {
        "id": "EW9Kv03jxTFX",
        "colab_type": "code",
        "colab": {}
      },
      "source": [
        "autoencoder = Model(input_img,encoder) #This is the final model"
      ],
      "execution_count": 0,
      "outputs": []
    },
    {
      "cell_type": "code",
      "metadata": {
        "id": "RGyqVLH3xzhy",
        "colab_type": "code",
        "colab": {}
      },
      "source": [
        "decoder = Model(input_img,decoder)"
      ],
      "execution_count": 0,
      "outputs": []
    },
    {
      "cell_type": "markdown",
      "metadata": {
        "id": "yUYabrUssm7v",
        "colab_type": "text"
      },
      "source": [
        "I use this because later it might be interesting to see what the encoded image looks like."
      ]
    },
    {
      "cell_type": "code",
      "metadata": {
        "id": "D5sSLPYcx1kM",
        "colab_type": "code",
        "colab": {
          "base_uri": "https://localhost:8080/",
          "height": 134
        },
        "outputId": "237f1446-c405-4f91-f461-e15cb2b73233"
      },
      "source": [
        "autoencoder.compile(optimizer='adam',loss='binary_crossentropy',metrics=['accuracy'])"
      ],
      "execution_count": 24,
      "outputs": [
        {
          "output_type": "stream",
          "text": [
            "WARNING:tensorflow:From /usr/local/lib/python3.6/dist-packages/keras/optimizers.py:793: The name tf.train.Optimizer is deprecated. Please use tf.compat.v1.train.Optimizer instead.\n",
            "\n",
            "WARNING:tensorflow:From /usr/local/lib/python3.6/dist-packages/keras/backend/tensorflow_backend.py:3657: The name tf.log is deprecated. Please use tf.math.log instead.\n",
            "\n",
            "WARNING:tensorflow:From /usr/local/lib/python3.6/dist-packages/tensorflow_core/python/ops/nn_impl.py:183: where (from tensorflow.python.ops.array_ops) is deprecated and will be removed in a future version.\n",
            "Instructions for updating:\n",
            "Use tf.where in 2.0, which has the same broadcast rule as np.where\n"
          ],
          "name": "stdout"
        }
      ]
    },
    {
      "cell_type": "markdown",
      "metadata": {
        "id": "YgTNlfmAtPYu",
        "colab_type": "text"
      },
      "source": [
        "The optimizer is the thing that adjusts the weights accordingly in order the algorithm converges quicker. The loss is what is being calculated as output from the netwrok and the actual values which are contained in the X_test,the third argument is just visual representation of the accuracy"
      ]
    },
    {
      "cell_type": "code",
      "metadata": {
        "id": "UJLFyem3yOUF",
        "colab_type": "code",
        "colab": {
          "base_uri": "https://localhost:8080/",
          "height": 1000
        },
        "outputId": "e275c277-bac3-4078-818a-6ab696101f87"
      },
      "source": [
        "autoencoder.fit(X_train,X_train,batch_size=250,epochs=40,verbose=1,validation_data=(X_test,X_test))\n",
        "#Here we fit the X_train and again X_train, because we do not have a y_train - we have no labels. The batch_size is 250 and we train for 40 epochs. Verbose is not relevant and the validation data is just X_test"
      ],
      "execution_count": 73,
      "outputs": [
        {
          "output_type": "stream",
          "text": [
            "Train on 60000 samples, validate on 10000 samples\n",
            "Epoch 1/40\n",
            "60000/60000 [==============================] - 6s 106us/step - loss: 0.1091 - acc: 0.8114 - val_loss: 0.1017 - val_acc: 0.8116\n",
            "Epoch 2/40\n",
            "60000/60000 [==============================] - 6s 94us/step - loss: 0.0998 - acc: 0.8129 - val_loss: 0.0961 - val_acc: 0.8124\n",
            "Epoch 3/40\n",
            "60000/60000 [==============================] - 6s 93us/step - loss: 0.0956 - acc: 0.8134 - val_loss: 0.0930 - val_acc: 0.8127\n",
            "Epoch 4/40\n",
            "60000/60000 [==============================] - 6s 93us/step - loss: 0.0932 - acc: 0.8137 - val_loss: 0.0912 - val_acc: 0.8129\n",
            "Epoch 5/40\n",
            "60000/60000 [==============================] - 6s 99us/step - loss: 0.0917 - acc: 0.8139 - val_loss: 0.0898 - val_acc: 0.8131\n",
            "Epoch 6/40\n",
            "60000/60000 [==============================] - 6s 94us/step - loss: 0.0905 - acc: 0.8140 - val_loss: 0.0890 - val_acc: 0.8132\n",
            "Epoch 7/40\n",
            "60000/60000 [==============================] - 6s 94us/step - loss: 0.0896 - acc: 0.8141 - val_loss: 0.0883 - val_acc: 0.8133\n",
            "Epoch 8/40\n",
            "60000/60000 [==============================] - 6s 92us/step - loss: 0.0889 - acc: 0.8142 - val_loss: 0.0874 - val_acc: 0.8133\n",
            "Epoch 9/40\n",
            "60000/60000 [==============================] - 6s 92us/step - loss: 0.0883 - acc: 0.8142 - val_loss: 0.0872 - val_acc: 0.8133\n",
            "Epoch 10/40\n",
            "60000/60000 [==============================] - 6s 93us/step - loss: 0.0877 - acc: 0.8143 - val_loss: 0.0865 - val_acc: 0.8134\n",
            "Epoch 11/40\n",
            "60000/60000 [==============================] - 6s 94us/step - loss: 0.0873 - acc: 0.8143 - val_loss: 0.0860 - val_acc: 0.8134\n",
            "Epoch 12/40\n",
            "60000/60000 [==============================] - 6s 93us/step - loss: 0.0870 - acc: 0.8143 - val_loss: 0.0858 - val_acc: 0.8134\n",
            "Epoch 13/40\n",
            "60000/60000 [==============================] - 6s 93us/step - loss: 0.0866 - acc: 0.8144 - val_loss: 0.0858 - val_acc: 0.8133\n",
            "Epoch 14/40\n",
            "60000/60000 [==============================] - 6s 93us/step - loss: 0.0863 - acc: 0.8144 - val_loss: 0.0852 - val_acc: 0.8135\n",
            "Epoch 15/40\n",
            "60000/60000 [==============================] - 6s 93us/step - loss: 0.0860 - acc: 0.8144 - val_loss: 0.0854 - val_acc: 0.8133\n",
            "Epoch 16/40\n",
            "60000/60000 [==============================] - 6s 95us/step - loss: 0.0857 - acc: 0.8144 - val_loss: 0.0850 - val_acc: 0.8135\n",
            "Epoch 17/40\n",
            "60000/60000 [==============================] - 6s 94us/step - loss: 0.0855 - acc: 0.8145 - val_loss: 0.0846 - val_acc: 0.8135\n",
            "Epoch 18/40\n",
            "60000/60000 [==============================] - 6s 93us/step - loss: 0.0853 - acc: 0.8145 - val_loss: 0.0843 - val_acc: 0.8135\n",
            "Epoch 19/40\n",
            "60000/60000 [==============================] - 6s 92us/step - loss: 0.0850 - acc: 0.8145 - val_loss: 0.0841 - val_acc: 0.8135\n",
            "Epoch 20/40\n",
            "60000/60000 [==============================] - 6s 93us/step - loss: 0.0849 - acc: 0.8145 - val_loss: 0.0843 - val_acc: 0.8136\n",
            "Epoch 21/40\n",
            "60000/60000 [==============================] - 6s 93us/step - loss: 0.0847 - acc: 0.8145 - val_loss: 0.0838 - val_acc: 0.8136\n",
            "Epoch 22/40\n",
            "60000/60000 [==============================] - 6s 93us/step - loss: 0.0845 - acc: 0.8145 - val_loss: 0.0837 - val_acc: 0.8135\n",
            "Epoch 23/40\n",
            "60000/60000 [==============================] - 6s 93us/step - loss: 0.0843 - acc: 0.8145 - val_loss: 0.0838 - val_acc: 0.8136\n",
            "Epoch 24/40\n",
            "60000/60000 [==============================] - 6s 94us/step - loss: 0.0842 - acc: 0.8146 - val_loss: 0.0838 - val_acc: 0.8137\n",
            "Epoch 25/40\n",
            "60000/60000 [==============================] - 6s 93us/step - loss: 0.0840 - acc: 0.8146 - val_loss: 0.0834 - val_acc: 0.8136\n",
            "Epoch 26/40\n",
            "60000/60000 [==============================] - 6s 93us/step - loss: 0.0839 - acc: 0.8146 - val_loss: 0.0832 - val_acc: 0.8136\n",
            "Epoch 27/40\n",
            "60000/60000 [==============================] - 6s 94us/step - loss: 0.0838 - acc: 0.8146 - val_loss: 0.0832 - val_acc: 0.8136\n",
            "Epoch 28/40\n",
            "60000/60000 [==============================] - 6s 94us/step - loss: 0.0836 - acc: 0.8146 - val_loss: 0.0830 - val_acc: 0.8136\n",
            "Epoch 29/40\n",
            "60000/60000 [==============================] - 6s 93us/step - loss: 0.0836 - acc: 0.8146 - val_loss: 0.0832 - val_acc: 0.8136\n",
            "Epoch 30/40\n",
            "60000/60000 [==============================] - 6s 93us/step - loss: 0.0834 - acc: 0.8146 - val_loss: 0.0828 - val_acc: 0.8137\n",
            "Epoch 31/40\n",
            "60000/60000 [==============================] - 6s 97us/step - loss: 0.0834 - acc: 0.8146 - val_loss: 0.0828 - val_acc: 0.8136\n",
            "Epoch 32/40\n",
            "60000/60000 [==============================] - 6s 97us/step - loss: 0.0832 - acc: 0.8146 - val_loss: 0.0828 - val_acc: 0.8136\n",
            "Epoch 33/40\n",
            "60000/60000 [==============================] - 6s 95us/step - loss: 0.0832 - acc: 0.8146 - val_loss: 0.0826 - val_acc: 0.8137\n",
            "Epoch 34/40\n",
            "60000/60000 [==============================] - 6s 94us/step - loss: 0.0831 - acc: 0.8146 - val_loss: 0.0826 - val_acc: 0.8137\n",
            "Epoch 35/40\n",
            "60000/60000 [==============================] - 6s 94us/step - loss: 0.0830 - acc: 0.8147 - val_loss: 0.0823 - val_acc: 0.8137\n",
            "Epoch 36/40\n",
            "60000/60000 [==============================] - 6s 93us/step - loss: 0.0829 - acc: 0.8147 - val_loss: 0.0824 - val_acc: 0.8137\n",
            "Epoch 37/40\n",
            "60000/60000 [==============================] - 6s 94us/step - loss: 0.0828 - acc: 0.8147 - val_loss: 0.0824 - val_acc: 0.8137\n",
            "Epoch 38/40\n",
            "60000/60000 [==============================] - 6s 94us/step - loss: 0.0828 - acc: 0.8147 - val_loss: 0.0827 - val_acc: 0.8136\n",
            "Epoch 39/40\n",
            "60000/60000 [==============================] - 6s 93us/step - loss: 0.0828 - acc: 0.8147 - val_loss: 0.0821 - val_acc: 0.8137\n",
            "Epoch 40/40\n",
            "60000/60000 [==============================] - 6s 93us/step - loss: 0.0826 - acc: 0.8147 - val_loss: 0.0823 - val_acc: 0.8137\n"
          ],
          "name": "stdout"
        },
        {
          "output_type": "execute_result",
          "data": {
            "text/plain": [
              "<keras.callbacks.History at 0x7f7a69ba5d30>"
            ]
          },
          "metadata": {
            "tags": []
          },
          "execution_count": 73
        }
      ]
    },
    {
      "cell_type": "code",
      "metadata": {
        "id": "0znIsqN7yZEr",
        "colab_type": "code",
        "colab": {}
      },
      "source": [
        "y_pred = autoencoder.predict(X_test_noisy)"
      ],
      "execution_count": 0,
      "outputs": []
    },
    {
      "cell_type": "markdown",
      "metadata": {
        "id": "WkRGfLt-wUv_",
        "colab_type": "text"
      },
      "source": [
        "Here we are trying to predict the noisy images, just to get rid of the noise we put in earlier. As you can recall I put some randomly distributed numbers throughout the image just to make it a little bit more blurry."
      ]
    },
    {
      "cell_type": "code",
      "metadata": {
        "id": "ayf4CiuazaiO",
        "colab_type": "code",
        "colab": {}
      },
      "source": [
        "y_pred_encoder = decoder.predict(X_test_noisy)"
      ],
      "execution_count": 0,
      "outputs": []
    },
    {
      "cell_type": "markdown",
      "metadata": {
        "id": "47GSqHjtwqDz",
        "colab_type": "text"
      },
      "source": [
        "This is the output of the encoder. It shows the last image of the encoding and what the decoder takes as an input and tries to recreate it as close as possible."
      ]
    },
    {
      "cell_type": "code",
      "metadata": {
        "id": "r6GREatYyu5E",
        "colab_type": "code",
        "colab": {}
      },
      "source": [
        ""
      ],
      "execution_count": 0,
      "outputs": []
    },
    {
      "cell_type": "code",
      "metadata": {
        "id": "9TFrLtjKjYyl",
        "colab_type": "code",
        "colab": {}
      },
      "source": [
        ""
      ],
      "execution_count": 0,
      "outputs": []
    },
    {
      "cell_type": "code",
      "metadata": {
        "id": "lB3lGktizg7U",
        "colab_type": "code",
        "colab": {
          "base_uri": "https://localhost:8080/",
          "height": 265
        },
        "outputId": "cd5484b4-21d9-4509-f25b-9412d30d8191"
      },
      "source": [
        "plt.imshow(y_pred[17].reshape(28,28))\n",
        "plt.gray()\n",
        "#This is the predicted image. As you can see this is pretty good given the fact that even the training samples were noisy."
      ],
      "execution_count": 106,
      "outputs": [
        {
          "output_type": "display_data",
          "data": {
            "image/png": "[encoded data removed]",
            "text/plain": [
              "<Figure size 432x288 with 1 Axes>"
            ]
          },
          "metadata": {
            "tags": []
          }
        }
      ]
    },
    {
      "cell_type": "code",
      "metadata": {
        "id": "odAxDQ06zndG",
        "colab_type": "code",
        "colab": {
          "base_uri": "https://localhost:8080/",
          "height": 265
        },
        "outputId": "6493e33f-bfd4-425e-e40a-58b6568ae9bf"
      },
      "source": [
        "plt.imshow(y_pred_decoder[17].reshape(8,4))\n",
        "plt.gray()\n",
        "#This is the output of the encoded image."
      ],
      "execution_count": 107,
      "outputs": [
        {
          "output_type": "display_data",
          "data": {
            "image/png": "[encoded data removed]",
            "text/plain": [
              "<Figure size 432x288 with 1 Axes>"
            ]
          },
          "metadata": {
            "tags": []
          }
        }
      ]
    },
    {
      "cell_type": "code",
      "metadata": {
        "id": "l7FYim4uz1tT",
        "colab_type": "code",
        "colab": {
          "base_uri": "https://localhost:8080/",
          "height": 282
        },
        "outputId": "f68cdca2-742e-49b8-dec2-5a90d467e3b1"
      },
      "source": [
        "plt.imshow(X_test_noisy[17].reshape(28,28))\n",
        "#This is the noisy image. I could see something that resembles a 7, but it is unclear what that is. According to me this is magic."
      ],
      "execution_count": 108,
      "outputs": [
        {
          "output_type": "execute_result",
          "data": {
            "text/plain": [
              "<matplotlib.image.AxesImage at 0x7f7a69a147b8>"
            ]
          },
          "metadata": {
            "tags": []
          },
          "execution_count": 108
        },
        {
          "output_type": "display_data",
          "data": {
            "image/png": "[encoded data removed]",
            "text/plain": [
              "<Figure size 432x288 with 1 Axes>"
            ]
          },
          "metadata": {
            "tags": []
          }
        }
      ]
    },
    {
      "cell_type": "code",
      "metadata": {
        "id": "BCJHsYfaz7AL",
        "colab_type": "code",
        "colab": {
          "base_uri": "https://localhost:8080/",
          "height": 265
        },
        "outputId": "4b709ecf-e6ad-41ec-f2c3-8918d03c62be"
      },
      "source": [
        "plt.imshow(X_test[17].reshape(28,28))\n",
        "plt.gray()\n",
        "#The actual image"
      ],
      "execution_count": 105,
      "outputs": [
        {
          "output_type": "display_data",
          "data": {
            "image/png": "[encoded data removed]",
            "text/plain": [
              "<Figure size 432x288 with 1 Axes>"
            ]
          },
          "metadata": {
            "tags": []
          }
        }
      ]
    }
  ]
}