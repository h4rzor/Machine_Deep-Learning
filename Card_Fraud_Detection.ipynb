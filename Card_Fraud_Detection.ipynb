{
  "nbformat": 4,
  "nbformat_minor": 0,
  "metadata": {
    "colab": {
      "name": "Card Fraud Detection",
      "provenance": [],
      "collapsed_sections": []
    },
    "kernelspec": {
      "name": "python3",
      "display_name": "Python 3"
    }
  },
  "cells": [
    {
      "cell_type": "code",
      "metadata": {
        "id": "wgfcJK50TJif",
        "colab_type": "code",
        "outputId": "a2411c17-399e-4da1-bfce-42bbb13f14f9",
        "colab": {
          "base_uri": "https://localhost:8080/",
          "height": 79
        }
      },
      "source": [
        "import pandas as pd\n",
        "import numpy as np\n",
        "import matplotlib.pyplot as plt\n",
        "import tensorflow as tf\n",
        "from sklearn.model_selection import train_test_split\n",
        "from keras.models import Model, load_model\n",
        "from keras.layers import Input, Dense\n",
        "from keras import regularizers\n",
        "%matplotlib inline\n",
        "#Importing the libraries I am goign to use "
      ],
      "execution_count": 4,
      "outputs": [
        {
          "output_type": "display_data",
          "data": {
            "text/html": [
              "<p style=\"color: red;\">\n",
              "The default version of TensorFlow in Colab will soon switch to TensorFlow 2.x.<br>\n",
              "We recommend you <a href=\"https://www.tensorflow.org/guide/migrate\" target=\"_blank\">upgrade</a> now \n",
              "or ensure your notebook will continue to use TensorFlow 1.x via the <code>%tensorflow_version 1.x</code> magic:\n",
              "<a href=\"https://colab.research.google.com/notebooks/tensorflow_version.ipynb\" target=\"_blank\">more info</a>.</p>\n"
            ],
            "text/plain": [
              "<IPython.core.display.HTML object>"
            ]
          },
          "metadata": {
            "tags": []
          }
        },
        {
          "output_type": "stream",
          "text": [
            "Using TensorFlow backend.\n"
          ],
          "name": "stderr"
        }
      ]
    },
    {
      "cell_type": "code",
      "metadata": {
        "id": "9BT34AqHTNJU",
        "colab_type": "code",
        "outputId": "451fc4d4-57d5-47e7-bd53-2220060771dd",
        "colab": {
          "resources": {
            "http://localhost:8080/nbextensions/google.colab/files.js": {
              "data": "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",
              "ok": true,
              "headers": [
                [
                  "content-type",
                  "application/javascript"
                ]
              ],
              "status": 200,
              "status_text": ""
            }
          },
          "base_uri": "https://localhost:8080/",
          "height": 74
        }
      },
      "source": [
        "from google.colab import files\n",
        "uploaded = files.upload()\n",
        "#I have to upload the file to google colab in order to use it afterwards"
      ],
      "execution_count": 6,
      "outputs": [
        {
          "output_type": "display_data",
          "data": {
            "text/html": [
              "\n",
              "     <input type=\"file\" id=\"files-4843aa89-24bc-4c3e-bdd0-4f12b94e2d58\" name=\"files[]\" multiple disabled />\n",
              "     <output id=\"result-4843aa89-24bc-4c3e-bdd0-4f12b94e2d58\">\n",
              "      Upload widget is only available when the cell has been executed in the\n",
              "      current browser session. Please rerun this cell to enable.\n",
              "      </output>\n",
              "      <script src=\"/nbextensions/google.colab/files.js\"></script> "
            ],
            "text/plain": [
              "<IPython.core.display.HTML object>"
            ]
          },
          "metadata": {
            "tags": []
          }
        },
        {
          "output_type": "stream",
          "text": [
            "Saving creditcard.csv to creditcard.csv\n"
          ],
          "name": "stdout"
        }
      ]
    },
    {
      "cell_type": "code",
      "metadata": {
        "id": "0Tegj4G2TYEU",
        "colab_type": "code",
        "colab": {}
      },
      "source": [
        "import io\n",
        "df = pd.read_csv(io.BytesIO(uploaded['creditcard.csv']))\n",
        "#Using pandas to read the csv file."
      ],
      "execution_count": 0,
      "outputs": []
    },
    {
      "cell_type": "code",
      "metadata": {
        "id": "ejITA5jTdyKO",
        "colab_type": "code",
        "outputId": "8bfe32dd-f946-4c33-a1c9-c6edf560a27c",
        "colab": {
          "base_uri": "https://localhost:8080/",
          "height": 422
        }
      },
      "source": [
        "df"
      ],
      "execution_count": 8,
      "outputs": [
        {
          "output_type": "execute_result",
          "data": {
            "text/html": [
              "<div>\n",
              "<style scoped>\n",
              "    .dataframe tbody tr th:only-of-type {\n",
              "        vertical-align: middle;\n",
              "    }\n",
              "\n",
              "    .dataframe tbody tr th {\n",
              "        vertical-align: top;\n",
              "    }\n",
              "\n",
              "    .dataframe thead th {\n",
              "        text-align: right;\n",
              "    }\n",
              "</style>\n",
              "<table border=\"1\" class=\"dataframe\">\n",
              "  <thead>\n",
              "    <tr style=\"text-align: right;\">\n",
              "      <th></th>\n",
              "      <th>Time</th>\n",
              "      <th>V1</th>\n",
              "      <th>V2</th>\n",
              "      <th>V3</th>\n",
              "      <th>V4</th>\n",
              "      <th>V5</th>\n",
              "      <th>V6</th>\n",
              "      <th>V7</th>\n",
              "      <th>V8</th>\n",
              "      <th>V9</th>\n",
              "      <th>V10</th>\n",
              "      <th>V11</th>\n",
              "      <th>V12</th>\n",
              "      <th>V13</th>\n",
              "      <th>V14</th>\n",
              "      <th>V15</th>\n",
              "      <th>V16</th>\n",
              "      <th>V17</th>\n",
              "      <th>V18</th>\n",
              "      <th>V19</th>\n",
              "      <th>V20</th>\n",
              "      <th>V21</th>\n",
              "      <th>V22</th>\n",
              "      <th>V23</th>\n",
              "      <th>V24</th>\n",
              "      <th>V25</th>\n",
              "      <th>V26</th>\n",
              "      <th>V27</th>\n",
              "      <th>V28</th>\n",
              "      <th>Amount</th>\n",
              "      <th>Class</th>\n",
              "    </tr>\n",
              "  </thead>\n",
              "  <tbody>\n",
              "    <tr>\n",
              "      <th>0</th>\n",
              "      <td>0.0</td>\n",
              "      <td>-1.359807</td>\n",
              "      <td>-0.072781</td>\n",
              "      <td>2.536347</td>\n",
              "      <td>1.378155</td>\n",
              "      <td>-0.338321</td>\n",
              "      <td>0.462388</td>\n",
              "      <td>0.239599</td>\n",
              "      <td>0.098698</td>\n",
              "      <td>0.363787</td>\n",
              "      <td>0.090794</td>\n",
              "      <td>-0.551600</td>\n",
              "      <td>-0.617801</td>\n",
              "      <td>-0.991390</td>\n",
              "      <td>-0.311169</td>\n",
              "      <td>1.468177</td>\n",
              "      <td>-0.470401</td>\n",
              "      <td>0.207971</td>\n",
              "      <td>0.025791</td>\n",
              "      <td>0.403993</td>\n",
              "      <td>0.251412</td>\n",
              "      <td>-0.018307</td>\n",
              "      <td>0.277838</td>\n",
              "      <td>-0.110474</td>\n",
              "      <td>0.066928</td>\n",
              "      <td>0.128539</td>\n",
              "      <td>-0.189115</td>\n",
              "      <td>0.133558</td>\n",
              "      <td>-0.021053</td>\n",
              "      <td>149.62</td>\n",
              "      <td>0</td>\n",
              "    </tr>\n",
              "    <tr>\n",
              "      <th>1</th>\n",
              "      <td>0.0</td>\n",
              "      <td>1.191857</td>\n",
              "      <td>0.266151</td>\n",
              "      <td>0.166480</td>\n",
              "      <td>0.448154</td>\n",
              "      <td>0.060018</td>\n",
              "      <td>-0.082361</td>\n",
              "      <td>-0.078803</td>\n",
              "      <td>0.085102</td>\n",
              "      <td>-0.255425</td>\n",
              "      <td>-0.166974</td>\n",
              "      <td>1.612727</td>\n",
              "      <td>1.065235</td>\n",
              "      <td>0.489095</td>\n",
              "      <td>-0.143772</td>\n",
              "      <td>0.635558</td>\n",
              "      <td>0.463917</td>\n",
              "      <td>-0.114805</td>\n",
              "      <td>-0.183361</td>\n",
              "      <td>-0.145783</td>\n",
              "      <td>-0.069083</td>\n",
              "      <td>-0.225775</td>\n",
              "      <td>-0.638672</td>\n",
              "      <td>0.101288</td>\n",
              "      <td>-0.339846</td>\n",
              "      <td>0.167170</td>\n",
              "      <td>0.125895</td>\n",
              "      <td>-0.008983</td>\n",
              "      <td>0.014724</td>\n",
              "      <td>2.69</td>\n",
              "      <td>0</td>\n",
              "    </tr>\n",
              "    <tr>\n",
              "      <th>2</th>\n",
              "      <td>1.0</td>\n",
              "      <td>-1.358354</td>\n",
              "      <td>-1.340163</td>\n",
              "      <td>1.773209</td>\n",
              "      <td>0.379780</td>\n",
              "      <td>-0.503198</td>\n",
              "      <td>1.800499</td>\n",
              "      <td>0.791461</td>\n",
              "      <td>0.247676</td>\n",
              "      <td>-1.514654</td>\n",
              "      <td>0.207643</td>\n",
              "      <td>0.624501</td>\n",
              "      <td>0.066084</td>\n",
              "      <td>0.717293</td>\n",
              "      <td>-0.165946</td>\n",
              "      <td>2.345865</td>\n",
              "      <td>-2.890083</td>\n",
              "      <td>1.109969</td>\n",
              "      <td>-0.121359</td>\n",
              "      <td>-2.261857</td>\n",
              "      <td>0.524980</td>\n",
              "      <td>0.247998</td>\n",
              "      <td>0.771679</td>\n",
              "      <td>0.909412</td>\n",
              "      <td>-0.689281</td>\n",
              "      <td>-0.327642</td>\n",
              "      <td>-0.139097</td>\n",
              "      <td>-0.055353</td>\n",
              "      <td>-0.059752</td>\n",
              "      <td>378.66</td>\n",
              "      <td>0</td>\n",
              "    </tr>\n",
              "    <tr>\n",
              "      <th>3</th>\n",
              "      <td>1.0</td>\n",
              "      <td>-0.966272</td>\n",
              "      <td>-0.185226</td>\n",
              "      <td>1.792993</td>\n",
              "      <td>-0.863291</td>\n",
              "      <td>-0.010309</td>\n",
              "      <td>1.247203</td>\n",
              "      <td>0.237609</td>\n",
              "      <td>0.377436</td>\n",
              "      <td>-1.387024</td>\n",
              "      <td>-0.054952</td>\n",
              "      <td>-0.226487</td>\n",
              "      <td>0.178228</td>\n",
              "      <td>0.507757</td>\n",
              "      <td>-0.287924</td>\n",
              "      <td>-0.631418</td>\n",
              "      <td>-1.059647</td>\n",
              "      <td>-0.684093</td>\n",
              "      <td>1.965775</td>\n",
              "      <td>-1.232622</td>\n",
              "      <td>-0.208038</td>\n",
              "      <td>-0.108300</td>\n",
              "      <td>0.005274</td>\n",
              "      <td>-0.190321</td>\n",
              "      <td>-1.175575</td>\n",
              "      <td>0.647376</td>\n",
              "      <td>-0.221929</td>\n",
              "      <td>0.062723</td>\n",
              "      <td>0.061458</td>\n",
              "      <td>123.50</td>\n",
              "      <td>0</td>\n",
              "    </tr>\n",
              "    <tr>\n",
              "      <th>4</th>\n",
              "      <td>2.0</td>\n",
              "      <td>-1.158233</td>\n",
              "      <td>0.877737</td>\n",
              "      <td>1.548718</td>\n",
              "      <td>0.403034</td>\n",
              "      <td>-0.407193</td>\n",
              "      <td>0.095921</td>\n",
              "      <td>0.592941</td>\n",
              "      <td>-0.270533</td>\n",
              "      <td>0.817739</td>\n",
              "      <td>0.753074</td>\n",
              "      <td>-0.822843</td>\n",
              "      <td>0.538196</td>\n",
              "      <td>1.345852</td>\n",
              "      <td>-1.119670</td>\n",
              "      <td>0.175121</td>\n",
              "      <td>-0.451449</td>\n",
              "      <td>-0.237033</td>\n",
              "      <td>-0.038195</td>\n",
              "      <td>0.803487</td>\n",
              "      <td>0.408542</td>\n",
              "      <td>-0.009431</td>\n",
              "      <td>0.798278</td>\n",
              "      <td>-0.137458</td>\n",
              "      <td>0.141267</td>\n",
              "      <td>-0.206010</td>\n",
              "      <td>0.502292</td>\n",
              "      <td>0.219422</td>\n",
              "      <td>0.215153</td>\n",
              "      <td>69.99</td>\n",
              "      <td>0</td>\n",
              "    </tr>\n",
              "    <tr>\n",
              "      <th>...</th>\n",
              "      <td>...</td>\n",
              "      <td>...</td>\n",
              "      <td>...</td>\n",
              "      <td>...</td>\n",
              "      <td>...</td>\n",
              "      <td>...</td>\n",
              "      <td>...</td>\n",
              "      <td>...</td>\n",
              "      <td>...</td>\n",
              "      <td>...</td>\n",
              "      <td>...</td>\n",
              "      <td>...</td>\n",
              "      <td>...</td>\n",
              "      <td>...</td>\n",
              "      <td>...</td>\n",
              "      <td>...</td>\n",
              "      <td>...</td>\n",
              "      <td>...</td>\n",
              "      <td>...</td>\n",
              "      <td>...</td>\n",
              "      <td>...</td>\n",
              "      <td>...</td>\n",
              "      <td>...</td>\n",
              "      <td>...</td>\n",
              "      <td>...</td>\n",
              "      <td>...</td>\n",
              "      <td>...</td>\n",
              "      <td>...</td>\n",
              "      <td>...</td>\n",
              "      <td>...</td>\n",
              "      <td>...</td>\n",
              "    </tr>\n",
              "    <tr>\n",
              "      <th>284802</th>\n",
              "      <td>172786.0</td>\n",
              "      <td>-11.881118</td>\n",
              "      <td>10.071785</td>\n",
              "      <td>-9.834783</td>\n",
              "      <td>-2.066656</td>\n",
              "      <td>-5.364473</td>\n",
              "      <td>-2.606837</td>\n",
              "      <td>-4.918215</td>\n",
              "      <td>7.305334</td>\n",
              "      <td>1.914428</td>\n",
              "      <td>4.356170</td>\n",
              "      <td>-1.593105</td>\n",
              "      <td>2.711941</td>\n",
              "      <td>-0.689256</td>\n",
              "      <td>4.626942</td>\n",
              "      <td>-0.924459</td>\n",
              "      <td>1.107641</td>\n",
              "      <td>1.991691</td>\n",
              "      <td>0.510632</td>\n",
              "      <td>-0.682920</td>\n",
              "      <td>1.475829</td>\n",
              "      <td>0.213454</td>\n",
              "      <td>0.111864</td>\n",
              "      <td>1.014480</td>\n",
              "      <td>-0.509348</td>\n",
              "      <td>1.436807</td>\n",
              "      <td>0.250034</td>\n",
              "      <td>0.943651</td>\n",
              "      <td>0.823731</td>\n",
              "      <td>0.77</td>\n",
              "      <td>0</td>\n",
              "    </tr>\n",
              "    <tr>\n",
              "      <th>284803</th>\n",
              "      <td>172787.0</td>\n",
              "      <td>-0.732789</td>\n",
              "      <td>-0.055080</td>\n",
              "      <td>2.035030</td>\n",
              "      <td>-0.738589</td>\n",
              "      <td>0.868229</td>\n",
              "      <td>1.058415</td>\n",
              "      <td>0.024330</td>\n",
              "      <td>0.294869</td>\n",
              "      <td>0.584800</td>\n",
              "      <td>-0.975926</td>\n",
              "      <td>-0.150189</td>\n",
              "      <td>0.915802</td>\n",
              "      <td>1.214756</td>\n",
              "      <td>-0.675143</td>\n",
              "      <td>1.164931</td>\n",
              "      <td>-0.711757</td>\n",
              "      <td>-0.025693</td>\n",
              "      <td>-1.221179</td>\n",
              "      <td>-1.545556</td>\n",
              "      <td>0.059616</td>\n",
              "      <td>0.214205</td>\n",
              "      <td>0.924384</td>\n",
              "      <td>0.012463</td>\n",
              "      <td>-1.016226</td>\n",
              "      <td>-0.606624</td>\n",
              "      <td>-0.395255</td>\n",
              "      <td>0.068472</td>\n",
              "      <td>-0.053527</td>\n",
              "      <td>24.79</td>\n",
              "      <td>0</td>\n",
              "    </tr>\n",
              "    <tr>\n",
              "      <th>284804</th>\n",
              "      <td>172788.0</td>\n",
              "      <td>1.919565</td>\n",
              "      <td>-0.301254</td>\n",
              "      <td>-3.249640</td>\n",
              "      <td>-0.557828</td>\n",
              "      <td>2.630515</td>\n",
              "      <td>3.031260</td>\n",
              "      <td>-0.296827</td>\n",
              "      <td>0.708417</td>\n",
              "      <td>0.432454</td>\n",
              "      <td>-0.484782</td>\n",
              "      <td>0.411614</td>\n",
              "      <td>0.063119</td>\n",
              "      <td>-0.183699</td>\n",
              "      <td>-0.510602</td>\n",
              "      <td>1.329284</td>\n",
              "      <td>0.140716</td>\n",
              "      <td>0.313502</td>\n",
              "      <td>0.395652</td>\n",
              "      <td>-0.577252</td>\n",
              "      <td>0.001396</td>\n",
              "      <td>0.232045</td>\n",
              "      <td>0.578229</td>\n",
              "      <td>-0.037501</td>\n",
              "      <td>0.640134</td>\n",
              "      <td>0.265745</td>\n",
              "      <td>-0.087371</td>\n",
              "      <td>0.004455</td>\n",
              "      <td>-0.026561</td>\n",
              "      <td>67.88</td>\n",
              "      <td>0</td>\n",
              "    </tr>\n",
              "    <tr>\n",
              "      <th>284805</th>\n",
              "      <td>172788.0</td>\n",
              "      <td>-0.240440</td>\n",
              "      <td>0.530483</td>\n",
              "      <td>0.702510</td>\n",
              "      <td>0.689799</td>\n",
              "      <td>-0.377961</td>\n",
              "      <td>0.623708</td>\n",
              "      <td>-0.686180</td>\n",
              "      <td>0.679145</td>\n",
              "      <td>0.392087</td>\n",
              "      <td>-0.399126</td>\n",
              "      <td>-1.933849</td>\n",
              "      <td>-0.962886</td>\n",
              "      <td>-1.042082</td>\n",
              "      <td>0.449624</td>\n",
              "      <td>1.962563</td>\n",
              "      <td>-0.608577</td>\n",
              "      <td>0.509928</td>\n",
              "      <td>1.113981</td>\n",
              "      <td>2.897849</td>\n",
              "      <td>0.127434</td>\n",
              "      <td>0.265245</td>\n",
              "      <td>0.800049</td>\n",
              "      <td>-0.163298</td>\n",
              "      <td>0.123205</td>\n",
              "      <td>-0.569159</td>\n",
              "      <td>0.546668</td>\n",
              "      <td>0.108821</td>\n",
              "      <td>0.104533</td>\n",
              "      <td>10.00</td>\n",
              "      <td>0</td>\n",
              "    </tr>\n",
              "    <tr>\n",
              "      <th>284806</th>\n",
              "      <td>172792.0</td>\n",
              "      <td>-0.533413</td>\n",
              "      <td>-0.189733</td>\n",
              "      <td>0.703337</td>\n",
              "      <td>-0.506271</td>\n",
              "      <td>-0.012546</td>\n",
              "      <td>-0.649617</td>\n",
              "      <td>1.577006</td>\n",
              "      <td>-0.414650</td>\n",
              "      <td>0.486180</td>\n",
              "      <td>-0.915427</td>\n",
              "      <td>-1.040458</td>\n",
              "      <td>-0.031513</td>\n",
              "      <td>-0.188093</td>\n",
              "      <td>-0.084316</td>\n",
              "      <td>0.041333</td>\n",
              "      <td>-0.302620</td>\n",
              "      <td>-0.660377</td>\n",
              "      <td>0.167430</td>\n",
              "      <td>-0.256117</td>\n",
              "      <td>0.382948</td>\n",
              "      <td>0.261057</td>\n",
              "      <td>0.643078</td>\n",
              "      <td>0.376777</td>\n",
              "      <td>0.008797</td>\n",
              "      <td>-0.473649</td>\n",
              "      <td>-0.818267</td>\n",
              "      <td>-0.002415</td>\n",
              "      <td>0.013649</td>\n",
              "      <td>217.00</td>\n",
              "      <td>0</td>\n",
              "    </tr>\n",
              "  </tbody>\n",
              "</table>\n",
              "<p>284807 rows × 31 columns</p>\n",
              "</div>"
            ],
            "text/plain": [
              "            Time         V1         V2  ...       V28  Amount  Class\n",
              "0            0.0  -1.359807  -0.072781  ... -0.021053  149.62      0\n",
              "1            0.0   1.191857   0.266151  ...  0.014724    2.69      0\n",
              "2            1.0  -1.358354  -1.340163  ... -0.059752  378.66      0\n",
              "3            1.0  -0.966272  -0.185226  ...  0.061458  123.50      0\n",
              "4            2.0  -1.158233   0.877737  ...  0.215153   69.99      0\n",
              "...          ...        ...        ...  ...       ...     ...    ...\n",
              "284802  172786.0 -11.881118  10.071785  ...  0.823731    0.77      0\n",
              "284803  172787.0  -0.732789  -0.055080  ... -0.053527   24.79      0\n",
              "284804  172788.0   1.919565  -0.301254  ... -0.026561   67.88      0\n",
              "284805  172788.0  -0.240440   0.530483  ...  0.104533   10.00      0\n",
              "284806  172792.0  -0.533413  -0.189733  ...  0.013649  217.00      0\n",
              "\n",
              "[284807 rows x 31 columns]"
            ]
          },
          "metadata": {
            "tags": []
          },
          "execution_count": 8
        }
      ]
    },
    {
      "cell_type": "markdown",
      "metadata": {
        "id": "ZDlBOz14IGML",
        "colab_type": "text"
      },
      "source": [
        "This is our dataset. As you can see it consist of 284807 rows and 31 columns. Due to privacy measures the columns names are these. We have a column Time which is the time the transaction is made. We have two more columns that are important. The amount of the transaction and the Class column - whether the transaction is a fraud or not a fraud. We are trying to predict just that using all the columns except the time column."
      ]
    },
    {
      "cell_type": "code",
      "metadata": {
        "id": "OjdWyf9Pd0EH",
        "colab_type": "code",
        "outputId": "8cdda178-e486-4609-c1e8-877cc42580a1",
        "colab": {
          "base_uri": "https://localhost:8080/",
          "height": 554
        }
      },
      "source": [
        "df.isnull().any() #Checking whether we have a NaN "
      ],
      "execution_count": 9,
      "outputs": [
        {
          "output_type": "execute_result",
          "data": {
            "text/plain": [
              "Time      False\n",
              "V1        False\n",
              "V2        False\n",
              "V3        False\n",
              "V4        False\n",
              "V5        False\n",
              "V6        False\n",
              "V7        False\n",
              "V8        False\n",
              "V9        False\n",
              "V10       False\n",
              "V11       False\n",
              "V12       False\n",
              "V13       False\n",
              "V14       False\n",
              "V15       False\n",
              "V16       False\n",
              "V17       False\n",
              "V18       False\n",
              "V19       False\n",
              "V20       False\n",
              "V21       False\n",
              "V22       False\n",
              "V23       False\n",
              "V24       False\n",
              "V25       False\n",
              "V26       False\n",
              "V27       False\n",
              "V28       False\n",
              "Amount    False\n",
              "Class     False\n",
              "dtype: bool"
            ]
          },
          "metadata": {
            "tags": []
          },
          "execution_count": 9
        }
      ]
    },
    {
      "cell_type": "code",
      "metadata": {
        "id": "s6Pdx7IMd6uV",
        "colab_type": "code",
        "outputId": "a3d8ae17-a3c0-441c-9765-7894bd9b1565",
        "colab": {
          "base_uri": "https://localhost:8080/",
          "height": 262
        }
      },
      "source": [
        "count_classes = df['Class'].value_counts().plot(kind = 'bar')\n",
        "#There is a huge disbalance in the dataset and I do not think I can even see the frauds."
      ],
      "execution_count": 10,
      "outputs": [
        {
          "output_type": "display_data",
          "data": {
            "image/png": "[encoded data removed]",
            "text/plain": [
              "<Figure size 432x288 with 1 Axes>"
            ]
          },
          "metadata": {
            "tags": []
          }
        }
      ]
    },
    {
      "cell_type": "code",
      "metadata": {
        "id": "X4Lllf1PeUQN",
        "colab_type": "code",
        "outputId": "4b205fcc-e064-451b-faee-6075c8891db8",
        "colab": {
          "base_uri": "https://localhost:8080/",
          "height": 67
        }
      },
      "source": [
        "df['Class'].value_counts() #This is a little better. The overwhelming majority of the dataset are not frauds."
      ],
      "execution_count": 11,
      "outputs": [
        {
          "output_type": "execute_result",
          "data": {
            "text/plain": [
              "0    284315\n",
              "1       492\n",
              "Name: Class, dtype: int64"
            ]
          },
          "metadata": {
            "tags": []
          },
          "execution_count": 11
        }
      ]
    },
    {
      "cell_type": "code",
      "metadata": {
        "id": "DKkF8yP8epzX",
        "colab_type": "code",
        "colab": {}
      },
      "source": [
        "frauds = df[df['Class']==1] #This is the whole dataset where the Class column is equal to 1 - fraud"
      ],
      "execution_count": 0,
      "outputs": []
    },
    {
      "cell_type": "code",
      "metadata": {
        "id": "rqh1sGNgeuJi",
        "colab_type": "code",
        "colab": {}
      },
      "source": [
        "normal = df[df['Class']==0] #This is also the whole dataset with all the columns where the Class column is equal to 0 - fraud"
      ],
      "execution_count": 0,
      "outputs": []
    },
    {
      "cell_type": "code",
      "metadata": {
        "id": "3tiK0kyMeu02",
        "colab_type": "code",
        "outputId": "97f98e99-ce21-40f1-c3bc-1ca45e28391d",
        "colab": {
          "base_uri": "https://localhost:8080/",
          "height": 34
        }
      },
      "source": [
        "frauds.shape"
      ],
      "execution_count": 14,
      "outputs": [
        {
          "output_type": "execute_result",
          "data": {
            "text/plain": [
              "(492, 31)"
            ]
          },
          "metadata": {
            "tags": []
          },
          "execution_count": 14
        }
      ]
    },
    {
      "cell_type": "code",
      "metadata": {
        "id": "N6j47kt2e5CM",
        "colab_type": "code",
        "outputId": "987e2110-0da4-43cf-f39f-a4edabcbd20d",
        "colab": {
          "base_uri": "https://localhost:8080/",
          "height": 34
        }
      },
      "source": [
        "normal.shape"
      ],
      "execution_count": 15,
      "outputs": [
        {
          "output_type": "execute_result",
          "data": {
            "text/plain": [
              "(284315, 31)"
            ]
          },
          "metadata": {
            "tags": []
          },
          "execution_count": 15
        }
      ]
    },
    {
      "cell_type": "code",
      "metadata": {
        "id": "T5X91xi-e53f",
        "colab_type": "code",
        "outputId": "27fba187-64b4-446e-8b14-8970fad084b5",
        "colab": {
          "base_uri": "https://localhost:8080/",
          "height": 168
        }
      },
      "source": [
        "frauds['Amount'].describe() #Just some parameters for the frauds"
      ],
      "execution_count": 16,
      "outputs": [
        {
          "output_type": "execute_result",
          "data": {
            "text/plain": [
              "count     492.000000\n",
              "mean      122.211321\n",
              "std       256.683288\n",
              "min         0.000000\n",
              "25%         1.000000\n",
              "50%         9.250000\n",
              "75%       105.890000\n",
              "max      2125.870000\n",
              "Name: Amount, dtype: float64"
            ]
          },
          "metadata": {
            "tags": []
          },
          "execution_count": 16
        }
      ]
    },
    {
      "cell_type": "code",
      "metadata": {
        "id": "Qm3JGf1Ne9qN",
        "colab_type": "code",
        "outputId": "0e70a1d2-e891-44c3-8040-721ced2ca8fe",
        "colab": {
          "base_uri": "https://localhost:8080/",
          "height": 168
        }
      },
      "source": [
        "normal['Amount'].describe() #Parameters for the normal transcations"
      ],
      "execution_count": 17,
      "outputs": [
        {
          "output_type": "execute_result",
          "data": {
            "text/plain": [
              "count    284315.000000\n",
              "mean         88.291022\n",
              "std         250.105092\n",
              "min           0.000000\n",
              "25%           5.650000\n",
              "50%          22.000000\n",
              "75%          77.050000\n",
              "max       25691.160000\n",
              "Name: Amount, dtype: float64"
            ]
          },
          "metadata": {
            "tags": []
          },
          "execution_count": 17
        }
      ]
    },
    {
      "cell_type": "code",
      "metadata": {
        "id": "aj9Gan5AfEz8",
        "colab_type": "code",
        "outputId": "f5a52f58-14c3-4846-cf79-971438706d77",
        "colab": {
          "base_uri": "https://localhost:8080/",
          "height": 325
        }
      },
      "source": [
        "f, (ax1, ax2) = plt.subplots(2,1,sharex=True)\n",
        "f.suptitle('Amount')\n",
        "ax1.hist(frauds['Amount'],bins=50)\n",
        "ax1.set_title('frauds')\n",
        "ax2.hist(normal['Amount'],bins=50)\n",
        "ax2.set_title('normal')\n",
        "plt.xlim((0, 20000))\n",
        "plt.yscale('log')\n",
        "plt.xlabel('Amount ($)')\n",
        "plt.ylabel('Number of Transactions')"
      ],
      "execution_count": 18,
      "outputs": [
        {
          "output_type": "execute_result",
          "data": {
            "text/plain": [
              "Text(0, 0.5, 'Number of Transactions')"
            ]
          },
          "metadata": {
            "tags": []
          },
          "execution_count": 18
        },
        {
          "output_type": "display_data",
          "data": {
            "image/png": "[encoded data removed]",
            "text/plain": [
              "<Figure size 432x288 with 2 Axes>"
            ]
          },
          "metadata": {
            "tags": []
          }
        }
      ]
    },
    {
      "cell_type": "markdown",
      "metadata": {
        "id": "B2Wijh1zWIUz",
        "colab_type": "text"
      },
      "source": [
        "Here I am plotting the Amount and the number of the transactions made in the datast. The frauds are less than the normal transactions but I do not see any correlation at this time, we will see what the algorithm say."
      ]
    },
    {
      "cell_type": "code",
      "metadata": {
        "id": "dOZ1SIsFfpDD",
        "colab_type": "code",
        "outputId": "38b0dafd-186d-4dcd-fbe9-b23ed7fb8c7c",
        "colab": {
          "base_uri": "https://localhost:8080/",
          "height": 311
        }
      },
      "source": [
        "f, (ax1,ax2) = plt.subplots(2,1,sharex=True)\n",
        "f.suptitle('During what time')\n",
        "\n",
        "ax1.scatter(frauds.Time, frauds.Amount)\n",
        "ax1.set_title('Fraud')\n",
        "\n",
        "ax2.scatter(normal.Time, normal.Amount)\n",
        "ax2.set_title('Normal')"
      ],
      "execution_count": 19,
      "outputs": [
        {
          "output_type": "execute_result",
          "data": {
            "text/plain": [
              "Text(0.5, 1.0, 'Normal')"
            ]
          },
          "metadata": {
            "tags": []
          },
          "execution_count": 19
        },
        {
          "output_type": "display_data",
          "data": {
            "image/png": "[encoded data removed]",
            "text/plain": [
              "<Figure size 432x288 with 2 Axes>"
            ]
          },
          "metadata": {
            "tags": []
          }
        }
      ]
    },
    {
      "cell_type": "markdown",
      "metadata": {
        "id": "ETP-6ZonWm8J",
        "colab_type": "text"
      },
      "source": [
        "Here I scattered the dataset in such manner that the dots are dependant on the time the transaction is made and the amount of the transaction. It is hard to tell if there is some correlation."
      ]
    },
    {
      "cell_type": "code",
      "metadata": {
        "id": "mTYOeUUFgdhV",
        "colab_type": "code",
        "colab": {}
      },
      "source": [
        "from sklearn.preprocessing import StandardScaler #Importing the scaler"
      ],
      "execution_count": 0,
      "outputs": []
    },
    {
      "cell_type": "code",
      "metadata": {
        "id": "82KXzGHyg363",
        "colab_type": "code",
        "colab": {}
      },
      "source": [
        "train = df.drop('Time',axis='columns') #I am dropping the time axis"
      ],
      "execution_count": 0,
      "outputs": []
    },
    {
      "cell_type": "code",
      "metadata": {
        "id": "0pUbXvCjg_Fk",
        "colab_type": "code",
        "colab": {}
      },
      "source": [
        "train['Amount'] = StandardScaler().fit_transform(train['Amount'].values.reshape(-1,1)) #Scaling the Amount column in order the algorithm to learn faster and more accurately"
      ],
      "execution_count": 0,
      "outputs": []
    },
    {
      "cell_type": "code",
      "metadata": {
        "id": "Ri-bzUw9hLIN",
        "colab_type": "code",
        "outputId": "8fdcc5e0-0628-4b70-daef-40bf00471c5d",
        "colab": {
          "base_uri": "https://localhost:8080/",
          "height": 218
        }
      },
      "source": [
        "train['Amount']"
      ],
      "execution_count": 23,
      "outputs": [
        {
          "output_type": "execute_result",
          "data": {
            "text/plain": [
              "0         0.244964\n",
              "1        -0.342475\n",
              "2         1.160686\n",
              "3         0.140534\n",
              "4        -0.073403\n",
              "            ...   \n",
              "284802   -0.350151\n",
              "284803   -0.254117\n",
              "284804   -0.081839\n",
              "284805   -0.313249\n",
              "284806    0.514355\n",
              "Name: Amount, Length: 284807, dtype: float64"
            ]
          },
          "metadata": {
            "tags": []
          },
          "execution_count": 23
        }
      ]
    },
    {
      "cell_type": "code",
      "metadata": {
        "id": "MhHGN7B2hRa6",
        "colab_type": "code",
        "colab": {}
      },
      "source": [
        "from sklearn.model_selection import train_test_split #Helping to split the dataset"
      ],
      "execution_count": 0,
      "outputs": []
    },
    {
      "cell_type": "code",
      "metadata": {
        "id": "02AQdFbEhwmX",
        "colab_type": "code",
        "colab": {}
      },
      "source": [
        "X_train,X_test = train_test_split(train,test_size=.2) #We are splitting the dataset into 80% train and 20%test "
      ],
      "execution_count": 0,
      "outputs": []
    },
    {
      "cell_type": "code",
      "metadata": {
        "id": "2fiFrWV5h1Re",
        "colab_type": "code",
        "colab": {}
      },
      "source": [
        "X_train = X_train[X_train['Class']==0] "
      ],
      "execution_count": 0,
      "outputs": []
    },
    {
      "cell_type": "markdown",
      "metadata": {
        "id": "kUYgTQBTXk7k",
        "colab_type": "text"
      },
      "source": [
        "We are going to train the algorithm only with the true values. In other words only the not fraudulent transactions will be used. When we make a prediction whether the transaction is fraud, if the mistake(MSE) is small there is high change that the transaction is not fraud. And if the loss(MSE) is high -> the transaction is a fraud."
      ]
    },
    {
      "cell_type": "code",
      "metadata": {
        "id": "jvhqshy4iD_p",
        "colab_type": "code",
        "colab": {}
      },
      "source": [
        "X_train = X_train.drop(['Class'],axis=1) #Dropping the class column, we do not need it"
      ],
      "execution_count": 0,
      "outputs": []
    },
    {
      "cell_type": "code",
      "metadata": {
        "id": "YtK02TLSiL9x",
        "colab_type": "code",
        "colab": {}
      },
      "source": [
        "y_test = X_test['Class'] #Just making the y_test variable"
      ],
      "execution_count": 0,
      "outputs": []
    },
    {
      "cell_type": "code",
      "metadata": {
        "id": "i4XENGfRiMoR",
        "colab_type": "code",
        "colab": {}
      },
      "source": [
        "X_test = X_test.drop(['Class'], axis=1) #Dropping the class column from the test set also"
      ],
      "execution_count": 0,
      "outputs": []
    },
    {
      "cell_type": "code",
      "metadata": {
        "id": "jcZByHyeiX4d",
        "colab_type": "code",
        "colab": {}
      },
      "source": [
        "X_train = X_train.values #Getting just the values without the column's names"
      ],
      "execution_count": 0,
      "outputs": []
    },
    {
      "cell_type": "code",
      "metadata": {
        "id": "lfdRR9YDiawP",
        "colab_type": "code",
        "colab": {}
      },
      "source": [
        "X_test = X_test.values"
      ],
      "execution_count": 0,
      "outputs": []
    },
    {
      "cell_type": "code",
      "metadata": {
        "id": "KDwCY4wridhH",
        "colab_type": "code",
        "outputId": "8cdd98f9-6458-47d0-b55c-4d2c7146a125",
        "colab": {
          "base_uri": "https://localhost:8080/",
          "height": 34
        }
      },
      "source": [
        "X_train.shape"
      ],
      "execution_count": 32,
      "outputs": [
        {
          "output_type": "execute_result",
          "data": {
            "text/plain": [
              "(227447, 29)"
            ]
          },
          "metadata": {
            "tags": []
          },
          "execution_count": 32
        }
      ]
    },
    {
      "cell_type": "code",
      "metadata": {
        "id": "TQUz0az8iesZ",
        "colab_type": "code",
        "outputId": "09b0be8c-417f-41ee-c983-950f2e60d981",
        "colab": {
          "base_uri": "https://localhost:8080/",
          "height": 84
        }
      },
      "source": [
        "input_layer = Input(shape=(X_train.shape[1],)) #This is the input layer..sort of. We are feeding the model with the 29 columns left."
      ],
      "execution_count": 33,
      "outputs": [
        {
          "output_type": "stream",
          "text": [
            "WARNING:tensorflow:From /usr/local/lib/python3.6/dist-packages/keras/backend/tensorflow_backend.py:66: The name tf.get_default_graph is deprecated. Please use tf.compat.v1.get_default_graph instead.\n",
            "\n",
            "WARNING:tensorflow:From /usr/local/lib/python3.6/dist-packages/keras/backend/tensorflow_backend.py:541: The name tf.placeholder is deprecated. Please use tf.compat.v1.placeholder instead.\n",
            "\n"
          ],
          "name": "stdout"
        }
      ]
    },
    {
      "cell_type": "code",
      "metadata": {
        "id": "15r0e5fgit4o",
        "colab_type": "code",
        "outputId": "2cd88cab-63fc-4f31-a564-065e4b8cb4c9",
        "colab": {
          "base_uri": "https://localhost:8080/",
          "height": 50
        }
      },
      "source": [
        "encoder = Dense(units=14,activation='sigmoid')(input_layer)"
      ],
      "execution_count": 36,
      "outputs": [
        {
          "output_type": "stream",
          "text": [
            "WARNING:tensorflow:From /usr/local/lib/python3.6/dist-packages/keras/backend/tensorflow_backend.py:4432: The name tf.random_uniform is deprecated. Please use tf.random.uniform instead.\n",
            "\n"
          ],
          "name": "stdout"
        }
      ]
    },
    {
      "cell_type": "code",
      "metadata": {
        "id": "KPrMtSHyi1Ea",
        "colab_type": "code",
        "colab": {}
      },
      "source": [
        "encoder = Dense(units=7,activation='relu')(encoder)"
      ],
      "execution_count": 0,
      "outputs": []
    },
    {
      "cell_type": "code",
      "metadata": {
        "id": "FG5hoel1jkUc",
        "colab_type": "code",
        "colab": {}
      },
      "source": [
        "decoder = Dense(units=7,activation='sigmoid')((encoder))"
      ],
      "execution_count": 0,
      "outputs": []
    },
    {
      "cell_type": "code",
      "metadata": {
        "id": "mPXk6RSwjuVT",
        "colab_type": "code",
        "colab": {}
      },
      "source": [
        "decoder = Dense(units=(X_train.shape[1]),activation='relu')(decoder)"
      ],
      "execution_count": 0,
      "outputs": []
    },
    {
      "cell_type": "markdown",
      "metadata": {
        "id": "vQWka-jgbQQP",
        "colab_type": "text"
      },
      "source": [
        "This model learn by reducing the dimensionality of the input. As you can see we have almost 30 input features and as early as the second layer they become less. This is how the encoder works. It essentially encodes the input.The activations in these layers are sigmoid and relu. They are both frequently used. As the layers of the encoder goes deeper, the units parameter are getting less. We have to put the brackets after the Dense layer in order to tell tensorflow in which way do these layers move. The last ayer is the same as the input one as it is trying to predict the actual input we gave it."
      ]
    },
    {
      "cell_type": "code",
      "metadata": {
        "id": "-A_5p41RkPnc",
        "colab_type": "code",
        "outputId": "6edb6df5-ca1b-4634-c63a-216fe258590c",
        "colab": {
          "base_uri": "https://localhost:8080/",
          "height": 50
        }
      },
      "source": [
        "autoencoder = Model(inputs=input_layer,output=decoder) #This is the model"
      ],
      "execution_count": 40,
      "outputs": [
        {
          "output_type": "stream",
          "text": [
            "/usr/local/lib/python3.6/dist-packages/ipykernel_launcher.py:1: UserWarning: Update your `Model` call to the Keras 2 API: `Model(inputs=Tensor(\"in..., outputs=Tensor(\"de...)`\n",
            "  \"\"\"Entry point for launching an IPython kernel.\n"
          ],
          "name": "stderr"
        }
      ]
    },
    {
      "cell_type": "code",
      "metadata": {
        "id": "hdJLtc4QnLDT",
        "colab_type": "code",
        "colab": {}
      },
      "source": [
        "loss = tf.keras.losses.MSE #The loss in this case is Mean Squared Error"
      ],
      "execution_count": 0,
      "outputs": []
    },
    {
      "cell_type": "code",
      "metadata": {
        "id": "OTWu7cBSj378",
        "colab_type": "code",
        "outputId": "ff958675-27d8-4999-8df3-770273fc5bb1",
        "colab": {
          "base_uri": "https://localhost:8080/",
          "height": 50
        }
      },
      "source": [
        "nb_epochs = 100\n",
        "batch_size=32\n",
        "\n",
        "autoencoder.compile(optimizer='adam',loss=loss,metrics=['accuracy'])\n",
        "#Setting some parameters and optimizers"
      ],
      "execution_count": 42,
      "outputs": [
        {
          "output_type": "stream",
          "text": [
            "WARNING:tensorflow:From /usr/local/lib/python3.6/dist-packages/keras/optimizers.py:793: The name tf.train.Optimizer is deprecated. Please use tf.compat.v1.train.Optimizer instead.\n",
            "\n"
          ],
          "name": "stdout"
        }
      ]
    },
    {
      "cell_type": "code",
      "metadata": {
        "id": "CoQu9Px7kkE5",
        "colab_type": "code",
        "outputId": "d0e23ce3-27aa-43b8-c120-2d0509cf0cfb",
        "colab": {
          "base_uri": "https://localhost:8080/",
          "height": 1000
        }
      },
      "source": [
        "history = autoencoder.fit(X_train,X_train,batch_size=batch_size,epochs=nb_epochs,verbose=1,shuffle=True,validation_data=(X_test,X_test))\n",
        "#We fit the autoencoder with X_train and shuffle it just in case, the validation data is X_test"
      ],
      "execution_count": 43,
      "outputs": [
        {
          "output_type": "stream",
          "text": [
            "WARNING:tensorflow:From /usr/local/lib/python3.6/dist-packages/keras/backend/tensorflow_backend.py:1033: The name tf.assign_add is deprecated. Please use tf.compat.v1.assign_add instead.\n",
            "\n",
            "WARNING:tensorflow:From /usr/local/lib/python3.6/dist-packages/keras/backend/tensorflow_backend.py:1020: The name tf.assign is deprecated. Please use tf.compat.v1.assign instead.\n",
            "\n",
            "WARNING:tensorflow:From /usr/local/lib/python3.6/dist-packages/keras/backend/tensorflow_backend.py:3005: The name tf.Session is deprecated. Please use tf.compat.v1.Session instead.\n",
            "\n",
            "Train on 227447 samples, validate on 56962 samples\n",
            "Epoch 1/100\n",
            "WARNING:tensorflow:From /usr/local/lib/python3.6/dist-packages/keras/backend/tensorflow_backend.py:190: The name tf.get_default_session is deprecated. Please use tf.compat.v1.get_default_session instead.\n",
            "\n",
            "WARNING:tensorflow:From /usr/local/lib/python3.6/dist-packages/keras/backend/tensorflow_backend.py:197: The name tf.ConfigProto is deprecated. Please use tf.compat.v1.ConfigProto instead.\n",
            "\n",
            "WARNING:tensorflow:From /usr/local/lib/python3.6/dist-packages/keras/backend/tensorflow_backend.py:207: The name tf.global_variables is deprecated. Please use tf.compat.v1.global_variables instead.\n",
            "\n",
            "WARNING:tensorflow:From /usr/local/lib/python3.6/dist-packages/keras/backend/tensorflow_backend.py:216: The name tf.is_variable_initialized is deprecated. Please use tf.compat.v1.is_variable_initialized instead.\n",
            "\n",
            "WARNING:tensorflow:From /usr/local/lib/python3.6/dist-packages/keras/backend/tensorflow_backend.py:223: The name tf.variables_initializer is deprecated. Please use tf.compat.v1.variables_initializer instead.\n",
            "\n",
            "227447/227447 [==============================] - 11s 47us/step - loss: 0.9391 - acc: 0.2794 - val_loss: 0.9310 - val_acc: 0.3360\n",
            "Epoch 2/100\n",
            "227447/227447 [==============================] - 10s 44us/step - loss: 0.8885 - acc: 0.3511 - val_loss: 0.9102 - val_acc: 0.3639\n",
            "Epoch 3/100\n",
            "227447/227447 [==============================] - 10s 44us/step - loss: 0.8744 - acc: 0.3709 - val_loss: 0.9003 - val_acc: 0.3775\n",
            "Epoch 4/100\n",
            "227447/227447 [==============================] - 10s 43us/step - loss: 0.8672 - acc: 0.3792 - val_loss: 0.8947 - val_acc: 0.3825\n",
            "Epoch 5/100\n",
            "227447/227447 [==============================] - 10s 44us/step - loss: 0.8625 - acc: 0.3834 - val_loss: 0.8908 - val_acc: 0.3863\n",
            "Epoch 6/100\n",
            "227447/227447 [==============================] - 10s 44us/step - loss: 0.8585 - acc: 0.3858 - val_loss: 0.8869 - val_acc: 0.3876\n",
            "Epoch 7/100\n",
            "227447/227447 [==============================] - 10s 44us/step - loss: 0.8553 - acc: 0.3875 - val_loss: 0.8840 - val_acc: 0.3876\n",
            "Epoch 8/100\n",
            "227447/227447 [==============================] - 11s 47us/step - loss: 0.8527 - acc: 0.3894 - val_loss: 0.8815 - val_acc: 0.3925\n",
            "Epoch 9/100\n",
            "227447/227447 [==============================] - 10s 44us/step - loss: 0.8500 - acc: 0.3919 - val_loss: 0.8750 - val_acc: 0.3928\n",
            "Epoch 10/100\n",
            "227447/227447 [==============================] - 10s 43us/step - loss: 0.8369 - acc: 0.4006 - val_loss: 0.8598 - val_acc: 0.4121\n",
            "Epoch 11/100\n",
            "227447/227447 [==============================] - 10s 44us/step - loss: 0.8271 - acc: 0.4123 - val_loss: 0.8546 - val_acc: 0.4099\n",
            "Epoch 12/100\n",
            "227447/227447 [==============================] - 10s 43us/step - loss: 0.8234 - acc: 0.4136 - val_loss: 0.8515 - val_acc: 0.4153\n",
            "Epoch 13/100\n",
            "227447/227447 [==============================] - 10s 43us/step - loss: 0.8215 - acc: 0.4132 - val_loss: 0.8498 - val_acc: 0.4153\n",
            "Epoch 14/100\n",
            "227447/227447 [==============================] - 10s 43us/step - loss: 0.8203 - acc: 0.4135 - val_loss: 0.8493 - val_acc: 0.4148\n",
            "Epoch 15/100\n",
            "227447/227447 [==============================] - 10s 43us/step - loss: 0.8194 - acc: 0.4142 - val_loss: 0.8476 - val_acc: 0.4162\n",
            "Epoch 16/100\n",
            "227447/227447 [==============================] - 10s 43us/step - loss: 0.8185 - acc: 0.4156 - val_loss: 0.8466 - val_acc: 0.4184\n",
            "Epoch 17/100\n",
            "227447/227447 [==============================] - 10s 42us/step - loss: 0.8173 - acc: 0.4185 - val_loss: 0.8453 - val_acc: 0.4231\n",
            "Epoch 18/100\n",
            "227447/227447 [==============================] - 10s 43us/step - loss: 0.8163 - acc: 0.4214 - val_loss: 0.8449 - val_acc: 0.4182\n",
            "Epoch 19/100\n",
            "227447/227447 [==============================] - 10s 43us/step - loss: 0.8156 - acc: 0.4217 - val_loss: 0.8437 - val_acc: 0.4211\n",
            "Epoch 20/100\n",
            "227447/227447 [==============================] - 10s 45us/step - loss: 0.8149 - acc: 0.4218 - val_loss: 0.8434 - val_acc: 0.4247\n",
            "Epoch 21/100\n",
            "227447/227447 [==============================] - 10s 45us/step - loss: 0.8144 - acc: 0.4236 - val_loss: 0.8428 - val_acc: 0.4275\n",
            "Epoch 22/100\n",
            "227447/227447 [==============================] - 10s 43us/step - loss: 0.8138 - acc: 0.4240 - val_loss: 0.8423 - val_acc: 0.4265\n",
            "Epoch 23/100\n",
            "227447/227447 [==============================] - 10s 43us/step - loss: 0.8133 - acc: 0.4244 - val_loss: 0.8419 - val_acc: 0.4266\n",
            "Epoch 24/100\n",
            "227447/227447 [==============================] - 10s 43us/step - loss: 0.8130 - acc: 0.4245 - val_loss: 0.8413 - val_acc: 0.4268\n",
            "Epoch 25/100\n",
            "227447/227447 [==============================] - 10s 43us/step - loss: 0.8128 - acc: 0.4250 - val_loss: 0.8408 - val_acc: 0.4289\n",
            "Epoch 26/100\n",
            "227447/227447 [==============================] - 10s 43us/step - loss: 0.8123 - acc: 0.4265 - val_loss: 0.8406 - val_acc: 0.4300\n",
            "Epoch 27/100\n",
            "227447/227447 [==============================] - 10s 43us/step - loss: 0.8119 - acc: 0.4289 - val_loss: 0.8407 - val_acc: 0.4326\n",
            "Epoch 28/100\n",
            "227447/227447 [==============================] - 10s 43us/step - loss: 0.8114 - acc: 0.4313 - val_loss: 0.8397 - val_acc: 0.4312\n",
            "Epoch 29/100\n",
            "227447/227447 [==============================] - 10s 43us/step - loss: 0.8110 - acc: 0.4327 - val_loss: 0.8396 - val_acc: 0.4352\n",
            "Epoch 30/100\n",
            "227447/227447 [==============================] - 10s 43us/step - loss: 0.8106 - acc: 0.4334 - val_loss: 0.8389 - val_acc: 0.4370\n",
            "Epoch 31/100\n",
            "227447/227447 [==============================] - 10s 43us/step - loss: 0.8103 - acc: 0.4340 - val_loss: 0.8383 - val_acc: 0.4358\n",
            "Epoch 32/100\n",
            "227447/227447 [==============================] - 10s 43us/step - loss: 0.8100 - acc: 0.4342 - val_loss: 0.8383 - val_acc: 0.4361\n",
            "Epoch 33/100\n",
            "227447/227447 [==============================] - 10s 43us/step - loss: 0.8097 - acc: 0.4348 - val_loss: 0.8379 - val_acc: 0.4367\n",
            "Epoch 34/100\n",
            "227447/227447 [==============================] - 10s 43us/step - loss: 0.8096 - acc: 0.4351 - val_loss: 0.8374 - val_acc: 0.4385\n",
            "Epoch 35/100\n",
            "227447/227447 [==============================] - 10s 42us/step - loss: 0.8093 - acc: 0.4358 - val_loss: 0.8376 - val_acc: 0.4395\n",
            "Epoch 36/100\n",
            "227447/227447 [==============================] - 10s 43us/step - loss: 0.8091 - acc: 0.4357 - val_loss: 0.8374 - val_acc: 0.4389\n",
            "Epoch 37/100\n",
            "227447/227447 [==============================] - 10s 43us/step - loss: 0.8088 - acc: 0.4352 - val_loss: 0.8370 - val_acc: 0.4373\n",
            "Epoch 38/100\n",
            "227447/227447 [==============================] - 10s 43us/step - loss: 0.8084 - acc: 0.4363 - val_loss: 0.8369 - val_acc: 0.4357\n",
            "Epoch 39/100\n",
            "227447/227447 [==============================] - 10s 46us/step - loss: 0.8082 - acc: 0.4354 - val_loss: 0.8365 - val_acc: 0.4395\n",
            "Epoch 40/100\n",
            "227447/227447 [==============================] - 10s 43us/step - loss: 0.8080 - acc: 0.4357 - val_loss: 0.8362 - val_acc: 0.4402\n",
            "Epoch 41/100\n",
            "227447/227447 [==============================] - 10s 43us/step - loss: 0.8076 - acc: 0.4357 - val_loss: 0.8365 - val_acc: 0.4379\n",
            "Epoch 42/100\n",
            "227447/227447 [==============================] - 10s 42us/step - loss: 0.8076 - acc: 0.4354 - val_loss: 0.8354 - val_acc: 0.4409\n",
            "Epoch 43/100\n",
            "227447/227447 [==============================] - 10s 43us/step - loss: 0.8073 - acc: 0.4358 - val_loss: 0.8355 - val_acc: 0.4393\n",
            "Epoch 44/100\n",
            "227447/227447 [==============================] - 10s 43us/step - loss: 0.8074 - acc: 0.4359 - val_loss: 0.8360 - val_acc: 0.4407\n",
            "Epoch 45/100\n",
            "227447/227447 [==============================] - 10s 42us/step - loss: 0.8071 - acc: 0.4368 - val_loss: 0.8367 - val_acc: 0.4379\n",
            "Epoch 46/100\n",
            "227447/227447 [==============================] - 10s 43us/step - loss: 0.8071 - acc: 0.4360 - val_loss: 0.8352 - val_acc: 0.4408\n",
            "Epoch 47/100\n",
            "227447/227447 [==============================] - 10s 43us/step - loss: 0.8069 - acc: 0.4359 - val_loss: 0.8352 - val_acc: 0.4371\n",
            "Epoch 48/100\n",
            "227447/227447 [==============================] - 10s 43us/step - loss: 0.8067 - acc: 0.4358 - val_loss: 0.8348 - val_acc: 0.4396\n",
            "Epoch 49/100\n",
            "227447/227447 [==============================] - 10s 43us/step - loss: 0.8067 - acc: 0.4362 - val_loss: 0.8349 - val_acc: 0.4407\n",
            "Epoch 50/100\n",
            "227447/227447 [==============================] - 10s 43us/step - loss: 0.8066 - acc: 0.4354 - val_loss: 0.8344 - val_acc: 0.4413\n",
            "Epoch 51/100\n",
            "227447/227447 [==============================] - 10s 43us/step - loss: 0.8065 - acc: 0.4359 - val_loss: 0.8347 - val_acc: 0.4392\n",
            "Epoch 52/100\n",
            "227447/227447 [==============================] - 10s 45us/step - loss: 0.8065 - acc: 0.4353 - val_loss: 0.8346 - val_acc: 0.4394\n",
            "Epoch 53/100\n",
            "227447/227447 [==============================] - 10s 44us/step - loss: 0.8064 - acc: 0.4351 - val_loss: 0.8346 - val_acc: 0.4364\n",
            "Epoch 54/100\n",
            "227447/227447 [==============================] - 10s 43us/step - loss: 0.8062 - acc: 0.4357 - val_loss: 0.8343 - val_acc: 0.4389\n",
            "Epoch 55/100\n",
            "227447/227447 [==============================] - 10s 43us/step - loss: 0.8061 - acc: 0.4357 - val_loss: 0.8346 - val_acc: 0.4367\n",
            "Epoch 56/100\n",
            "227447/227447 [==============================] - 10s 43us/step - loss: 0.8060 - acc: 0.4358 - val_loss: 0.8348 - val_acc: 0.4359\n",
            "Epoch 57/100\n",
            "227447/227447 [==============================] - 10s 42us/step - loss: 0.8062 - acc: 0.4348 - val_loss: 0.8343 - val_acc: 0.4370\n",
            "Epoch 58/100\n",
            "227447/227447 [==============================] - 10s 43us/step - loss: 0.8059 - acc: 0.4352 - val_loss: 0.8340 - val_acc: 0.4363\n",
            "Epoch 59/100\n",
            "227447/227447 [==============================] - 10s 43us/step - loss: 0.8060 - acc: 0.4350 - val_loss: 0.8338 - val_acc: 0.4372\n",
            "Epoch 60/100\n",
            "227447/227447 [==============================] - 10s 43us/step - loss: 0.8058 - acc: 0.4353 - val_loss: 0.8346 - val_acc: 0.4390\n",
            "Epoch 61/100\n",
            "227447/227447 [==============================] - 10s 43us/step - loss: 0.8058 - acc: 0.4349 - val_loss: 0.8343 - val_acc: 0.4381\n",
            "Epoch 62/100\n",
            "227447/227447 [==============================] - 10s 43us/step - loss: 0.8058 - acc: 0.4349 - val_loss: 0.8337 - val_acc: 0.4369\n",
            "Epoch 63/100\n",
            "227447/227447 [==============================] - 10s 43us/step - loss: 0.8057 - acc: 0.4351 - val_loss: 0.8342 - val_acc: 0.4315\n",
            "Epoch 64/100\n",
            "227447/227447 [==============================] - 10s 43us/step - loss: 0.8056 - acc: 0.4346 - val_loss: 0.8341 - val_acc: 0.4373\n",
            "Epoch 65/100\n",
            "227447/227447 [==============================] - 10s 42us/step - loss: 0.8056 - acc: 0.4342 - val_loss: 0.8345 - val_acc: 0.4297\n",
            "Epoch 66/100\n",
            "227447/227447 [==============================] - 10s 43us/step - loss: 0.8055 - acc: 0.4348 - val_loss: 0.8338 - val_acc: 0.4385\n",
            "Epoch 67/100\n",
            "227447/227447 [==============================] - 10s 43us/step - loss: 0.8055 - acc: 0.4346 - val_loss: 0.8334 - val_acc: 0.4388\n",
            "Epoch 68/100\n",
            "227447/227447 [==============================] - 10s 43us/step - loss: 0.8054 - acc: 0.4342 - val_loss: 0.8345 - val_acc: 0.4361\n",
            "Epoch 69/100\n",
            "227447/227447 [==============================] - 10s 43us/step - loss: 0.8054 - acc: 0.4335 - val_loss: 0.8334 - val_acc: 0.4374\n",
            "Epoch 70/100\n",
            "227447/227447 [==============================] - 10s 43us/step - loss: 0.8053 - acc: 0.4345 - val_loss: 0.8329 - val_acc: 0.4357\n",
            "Epoch 71/100\n",
            "227447/227447 [==============================] - 10s 46us/step - loss: 0.8053 - acc: 0.4343 - val_loss: 0.8338 - val_acc: 0.4354\n",
            "Epoch 72/100\n",
            "227447/227447 [==============================] - 10s 43us/step - loss: 0.8053 - acc: 0.4343 - val_loss: 0.8337 - val_acc: 0.4366\n",
            "Epoch 73/100\n",
            "227447/227447 [==============================] - 10s 43us/step - loss: 0.8052 - acc: 0.4343 - val_loss: 0.8332 - val_acc: 0.4354\n",
            "Epoch 74/100\n",
            "227447/227447 [==============================] - 10s 43us/step - loss: 0.8052 - acc: 0.4343 - val_loss: 0.8335 - val_acc: 0.4363\n",
            "Epoch 75/100\n",
            "227447/227447 [==============================] - 10s 43us/step - loss: 0.8052 - acc: 0.4342 - val_loss: 0.8334 - val_acc: 0.4379\n",
            "Epoch 76/100\n",
            "227447/227447 [==============================] - 10s 43us/step - loss: 0.8053 - acc: 0.4341 - val_loss: 0.8332 - val_acc: 0.4360\n",
            "Epoch 77/100\n",
            "227447/227447 [==============================] - 10s 43us/step - loss: 0.8050 - acc: 0.4344 - val_loss: 0.8330 - val_acc: 0.4363\n",
            "Epoch 78/100\n",
            "227447/227447 [==============================] - 10s 43us/step - loss: 0.8051 - acc: 0.4335 - val_loss: 0.8328 - val_acc: 0.4379\n",
            "Epoch 79/100\n",
            "227447/227447 [==============================] - 10s 43us/step - loss: 0.8050 - acc: 0.4340 - val_loss: 0.8333 - val_acc: 0.4339\n",
            "Epoch 80/100\n",
            "227447/227447 [==============================] - 10s 43us/step - loss: 0.8050 - acc: 0.4339 - val_loss: 0.8327 - val_acc: 0.4371\n",
            "Epoch 81/100\n",
            "227447/227447 [==============================] - 10s 44us/step - loss: 0.8049 - acc: 0.4344 - val_loss: 0.8329 - val_acc: 0.4373\n",
            "Epoch 82/100\n",
            "227447/227447 [==============================] - 10s 43us/step - loss: 0.8050 - acc: 0.4340 - val_loss: 0.8328 - val_acc: 0.4367\n",
            "Epoch 83/100\n",
            "227447/227447 [==============================] - 10s 43us/step - loss: 0.8049 - acc: 0.4340 - val_loss: 0.8329 - val_acc: 0.4373\n",
            "Epoch 84/100\n",
            "227447/227447 [==============================] - 11s 47us/step - loss: 0.8049 - acc: 0.4337 - val_loss: 0.8329 - val_acc: 0.4339\n",
            "Epoch 85/100\n",
            "227447/227447 [==============================] - 10s 44us/step - loss: 0.8048 - acc: 0.4343 - val_loss: 0.8328 - val_acc: 0.4382\n",
            "Epoch 86/100\n",
            "227447/227447 [==============================] - 10s 43us/step - loss: 0.8047 - acc: 0.4343 - val_loss: 0.8357 - val_acc: 0.4285\n",
            "Epoch 87/100\n",
            "227447/227447 [==============================] - 10s 43us/step - loss: 0.8048 - acc: 0.4336 - val_loss: 0.8325 - val_acc: 0.4321\n",
            "Epoch 88/100\n",
            "227447/227447 [==============================] - 10s 43us/step - loss: 0.8047 - acc: 0.4338 - val_loss: 0.8338 - val_acc: 0.4311\n",
            "Epoch 89/100\n",
            "227447/227447 [==============================] - 10s 43us/step - loss: 0.8047 - acc: 0.4339 - val_loss: 0.8325 - val_acc: 0.4382\n",
            "Epoch 90/100\n",
            "227447/227447 [==============================] - 10s 43us/step - loss: 0.8046 - acc: 0.4344 - val_loss: 0.8326 - val_acc: 0.4363\n",
            "Epoch 91/100\n",
            "227447/227447 [==============================] - 10s 43us/step - loss: 0.8046 - acc: 0.4340 - val_loss: 0.8328 - val_acc: 0.4354\n",
            "Epoch 92/100\n",
            "227447/227447 [==============================] - 10s 43us/step - loss: 0.8046 - acc: 0.4338 - val_loss: 0.8324 - val_acc: 0.4360\n",
            "Epoch 93/100\n",
            "227447/227447 [==============================] - 10s 43us/step - loss: 0.8047 - acc: 0.4339 - val_loss: 0.8325 - val_acc: 0.4383\n",
            "Epoch 94/100\n",
            "227447/227447 [==============================] - 10s 43us/step - loss: 0.8047 - acc: 0.4340 - val_loss: 0.8327 - val_acc: 0.4371\n",
            "Epoch 95/100\n",
            "227447/227447 [==============================] - 10s 43us/step - loss: 0.8045 - acc: 0.4343 - val_loss: 0.8325 - val_acc: 0.4363\n",
            "Epoch 96/100\n",
            "227447/227447 [==============================] - 10s 43us/step - loss: 0.8046 - acc: 0.4341 - val_loss: 0.8332 - val_acc: 0.4358\n",
            "Epoch 97/100\n",
            "227447/227447 [==============================] - 10s 43us/step - loss: 0.8045 - acc: 0.4340 - val_loss: 0.8322 - val_acc: 0.4379\n",
            "Epoch 98/100\n",
            "227447/227447 [==============================] - 10s 43us/step - loss: 0.8045 - acc: 0.4341 - val_loss: 0.8326 - val_acc: 0.4369\n",
            "Epoch 99/100\n",
            "227447/227447 [==============================] - 10s 43us/step - loss: 0.8045 - acc: 0.4342 - val_loss: 0.8321 - val_acc: 0.4373\n",
            "Epoch 100/100\n",
            "227447/227447 [==============================] - 10s 43us/step - loss: 0.8045 - acc: 0.4340 - val_loss: 0.8330 - val_acc: 0.4352\n"
          ],
          "name": "stdout"
        }
      ]
    },
    {
      "cell_type": "code",
      "metadata": {
        "id": "44mkfINQk6ZS",
        "colab_type": "code",
        "colab": {}
      },
      "source": [
        ""
      ],
      "execution_count": 0,
      "outputs": []
    },
    {
      "cell_type": "code",
      "metadata": {
        "id": "Eigj1-TS3b-X",
        "colab_type": "code",
        "colab": {}
      },
      "source": [
        "y_pred = autoencoder.predict(X_test) #Making prediction for X_test"
      ],
      "execution_count": 0,
      "outputs": []
    },
    {
      "cell_type": "code",
      "metadata": {
        "id": "3YdJGy-94B9B",
        "colab_type": "code",
        "colab": {}
      },
      "source": [
        "mse = np.mean(np.power(X_test - y_pred,2),axis=1) #This is the formula for the mean squared error"
      ],
      "execution_count": 0,
      "outputs": []
    },
    {
      "cell_type": "code",
      "metadata": {
        "id": "jvIX-P9B4ON3",
        "colab_type": "code",
        "colab": {}
      },
      "source": [
        "error_df = pd.DataFrame({'reconstruction_error':mse,'true_class':y_test}) #Making a dataframe for the reconstruction error and the actual input "
      ],
      "execution_count": 0,
      "outputs": []
    },
    {
      "cell_type": "code",
      "metadata": {
        "id": "l1R-x4FZ4hA8",
        "colab_type": "code",
        "outputId": "11d296fd-95d8-4903-d74b-eda8d9b65310",
        "colab": {
          "base_uri": "https://localhost:8080/",
          "height": 284
        }
      },
      "source": [
        "error_df.describe()"
      ],
      "execution_count": 47,
      "outputs": [
        {
          "output_type": "execute_result",
          "data": {
            "text/html": [
              "<div>\n",
              "<style scoped>\n",
              "    .dataframe tbody tr th:only-of-type {\n",
              "        vertical-align: middle;\n",
              "    }\n",
              "\n",
              "    .dataframe tbody tr th {\n",
              "        vertical-align: top;\n",
              "    }\n",
              "\n",
              "    .dataframe thead th {\n",
              "        text-align: right;\n",
              "    }\n",
              "</style>\n",
              "<table border=\"1\" class=\"dataframe\">\n",
              "  <thead>\n",
              "    <tr style=\"text-align: right;\">\n",
              "      <th></th>\n",
              "      <th>reconstruction_error</th>\n",
              "      <th>true_class</th>\n",
              "    </tr>\n",
              "  </thead>\n",
              "  <tbody>\n",
              "    <tr>\n",
              "      <th>count</th>\n",
              "      <td>56962.000000</td>\n",
              "      <td>56962.00000</td>\n",
              "    </tr>\n",
              "    <tr>\n",
              "      <th>mean</th>\n",
              "      <td>0.832993</td>\n",
              "      <td>0.00165</td>\n",
              "    </tr>\n",
              "    <tr>\n",
              "      <th>std</th>\n",
              "      <td>3.333125</td>\n",
              "      <td>0.04059</td>\n",
              "    </tr>\n",
              "    <tr>\n",
              "      <th>min</th>\n",
              "      <td>0.095779</td>\n",
              "      <td>0.00000</td>\n",
              "    </tr>\n",
              "    <tr>\n",
              "      <th>25%</th>\n",
              "      <td>0.316677</td>\n",
              "      <td>0.00000</td>\n",
              "    </tr>\n",
              "    <tr>\n",
              "      <th>50%</th>\n",
              "      <td>0.501478</td>\n",
              "      <td>0.00000</td>\n",
              "    </tr>\n",
              "    <tr>\n",
              "      <th>75%</th>\n",
              "      <td>0.752839</td>\n",
              "      <td>0.00000</td>\n",
              "    </tr>\n",
              "    <tr>\n",
              "      <th>max</th>\n",
              "      <td>383.794288</td>\n",
              "      <td>1.00000</td>\n",
              "    </tr>\n",
              "  </tbody>\n",
              "</table>\n",
              "</div>"
            ],
            "text/plain": [
              "       reconstruction_error   true_class\n",
              "count          56962.000000  56962.00000\n",
              "mean               0.832993      0.00165\n",
              "std                3.333125      0.04059\n",
              "min                0.095779      0.00000\n",
              "25%                0.316677      0.00000\n",
              "50%                0.501478      0.00000\n",
              "75%                0.752839      0.00000\n",
              "max              383.794288      1.00000"
            ]
          },
          "metadata": {
            "tags": []
          },
          "execution_count": 47
        }
      ]
    },
    {
      "cell_type": "code",
      "metadata": {
        "id": "_WThrZFi4i1p",
        "colab_type": "code",
        "colab": {}
      },
      "source": [
        "from sklearn.metrics import confusion_matrix,precision_recall_curve,classification_report,roc_curve,auc #Importing tools for visualizing the test results"
      ],
      "execution_count": 0,
      "outputs": []
    },
    {
      "cell_type": "code",
      "metadata": {
        "id": "d9JZiF6Hp6mN",
        "colab_type": "code",
        "colab": {}
      },
      "source": [
        "roc_auc = auc(fpr,tpr)"
      ],
      "execution_count": 0,
      "outputs": []
    },
    {
      "cell_type": "code",
      "metadata": {
        "id": "3HusZFso40_5",
        "colab_type": "code",
        "colab": {}
      },
      "source": [
        "fpr, tpr,thresholds = roc_curve(error_df['true_class'],error_df['reconstruction_error'])#This is the roc_curve. It can be seen lower down."
      ],
      "execution_count": 0,
      "outputs": []
    },
    {
      "cell_type": "code",
      "metadata": {
        "id": "uqpMPrwK5gAt",
        "colab_type": "code",
        "outputId": "ab021b89-fe65-4bcd-fc99-e2a97df12ec2",
        "colab": {
          "base_uri": "https://localhost:8080/",
          "height": 283
        }
      },
      "source": [
        "plt.plot(fpr,tpr,label='AUC = %0.4f' % roc_auc)\n",
        "plt.plot([0,1],[0,1],'r--')\n",
        "plt.xlim([-0.001, 1])\n",
        "plt.ylim([0, 1.001])\n",
        "plt.ylabel('True positive')\n",
        "plt.xlabel('False positive')\n",
        "plt.show()"
      ],
      "execution_count": 53,
      "outputs": [
        {
          "output_type": "display_data",
          "data": {
            "image/png": "[encoded data removed]",
            "text/plain": [
              "<Figure size 432x288 with 1 Axes>"
            ]
          },
          "metadata": {
            "tags": []
          }
        }
      ]
    },
    {
      "cell_type": "markdown",
      "metadata": {
        "id": "L0vrEhQOd-Tt",
        "colab_type": "text"
      },
      "source": [
        "We can plot the roc_curve. This is great curve for the binary classifier and this is exactly why it is perfect for our problem. The blue line represents the outcome of our algorithm. If it is closer to the top left corner of the image,the closer it is to the actual input. It is not great but it is pretty good. We can tweak afterwards."
      ]
    },
    {
      "cell_type": "code",
      "metadata": {
        "id": "xZP-Ne-f58--",
        "colab_type": "code",
        "colab": {}
      },
      "source": [
        ""
      ],
      "execution_count": 0,
      "outputs": []
    },
    {
      "cell_type": "code",
      "metadata": {
        "id": "X_4NcMaQ6XKH",
        "colab_type": "code",
        "colab": {}
      },
      "source": [
        ""
      ],
      "execution_count": 0,
      "outputs": []
    },
    {
      "cell_type": "code",
      "metadata": {
        "id": "WAQGKVYu6iwV",
        "colab_type": "code",
        "colab": {}
      },
      "source": [
        "threshold = 2.7 #Setting the threshold to 2.7 "
      ],
      "execution_count": 0,
      "outputs": []
    },
    {
      "cell_type": "code",
      "metadata": {
        "id": "WzzCtjg76uJG",
        "colab_type": "code",
        "colab": {}
      },
      "source": [
        "y_pred = [1 if e > threshold else 0 for e in error_df['reconstruction_error'].values] #If the y_pred is bigger than the threshold we initiated it is set to 1 otherwise it is set to 0"
      ],
      "execution_count": 0,
      "outputs": []
    },
    {
      "cell_type": "code",
      "metadata": {
        "id": "kF9kBoLN7Cpo",
        "colab_type": "code",
        "colab": {}
      },
      "source": [
        "cm = confusion_matrix(error_df['true_class'],y_pred) #This is the confusion matrix "
      ],
      "execution_count": 0,
      "outputs": []
    },
    {
      "cell_type": "code",
      "metadata": {
        "id": "DHc8MmsO7JNF",
        "colab_type": "code",
        "outputId": "ee757bec-58c8-4a36-add5-5e1a918d8eb7",
        "colab": {
          "base_uri": "https://localhost:8080/",
          "height": 50
        }
      },
      "source": [
        "cm #So the result is pretty good, with a little bit tweaking we could get it to becaome even more precise."
      ],
      "execution_count": 57,
      "outputs": [
        {
          "output_type": "execute_result",
          "data": {
            "text/plain": [
              "array([[54791,  2077],\n",
              "       [    9,    85]])"
            ]
          },
          "metadata": {
            "tags": []
          },
          "execution_count": 57
        }
      ]
    },
    {
      "cell_type": "code",
      "metadata": {
        "id": "kakdN3lO7MdD",
        "colab_type": "code",
        "colab": {}
      },
      "source": [
        ""
      ],
      "execution_count": 0,
      "outputs": []
    }
  ]
}